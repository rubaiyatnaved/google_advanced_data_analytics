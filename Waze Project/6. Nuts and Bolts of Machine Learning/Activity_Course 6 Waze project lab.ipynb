{
 "cells": [
  {
   "cell_type": "markdown",
   "metadata": {
    "id": "DtNBZFHO3M7n"
   },
   "source": [
    "# **Waze Project**\n",
    "**Course 6 - The nuts and bolts of machine learning**"
   ]
  },
  {
   "cell_type": "markdown",
   "metadata": {
    "id": "XfCZ5KuI_2lT"
   },
   "source": [
    "Your team is close to completing their user churn project. Previously, you completed a project proposal, and used Python to explore and analyze Waze’s user data, create data visualizations, and conduct a hypothesis test. Most recently, you built a binomial logistic regression model based on multiple variables.\n",
    "\n",
    "Leadership appreciates all your hard work. Now, they want your team to build a machine learning model to predict user churn. To get the best results, your team decides to build and test two tree-based models: random forest and XGBoost.\n",
    "\n",
    "Your work will help leadership make informed business decisions to prevent user churn, improve user retention, and grow Waze’s business.\n"
   ]
  },
  {
   "cell_type": "markdown",
   "metadata": {
    "id": "rgSbVJvomcVa"
   },
   "source": [
    "# **Course 6 End-of-Course Project: Build a machine learning model**\n",
    "\n",
    "In this activity, you will practice using tree-based modeling techniques to predict on a binary target class.\n",
    "<br/>\n",
    "\n",
    "**The purpose** of this model is to find factors that drive user churn.\n",
    "\n",
    "**The goal** of this model is to predict whether or not a Waze user is retained or churned.\n",
    "<br/>\n",
    "\n",
    "*This activity has three parts:*\n",
    "\n",
    "**Part 1:** Ethical considerations\n",
    "* Consider the ethical implications of the request\n",
    "\n",
    "* Should the objective of the model be adjusted?\n",
    "\n",
    "**Part 2:** Feature engineering\n",
    "\n",
    "* Perform feature selection, extraction, and transformation to prepare the data for modeling\n",
    "\n",
    "**Part 3:** Modeling\n",
    "\n",
    "* Build the models, evaluate them, and advise on next steps\n",
    "\n",
    "Follow the instructions and answer the questions below to complete the activity. Then, you will complete an Executive Summary using the questions listed on the PACE Strategy Document.\n",
    "\n",
    "Be sure to complete this activity before moving on. The next course item will provide you with a completed exemplar to compare to your own work.\n",
    "\n"
   ]
  },
  {
   "cell_type": "markdown",
   "metadata": {
    "id": "SsrI9g32nrAs"
   },
   "source": [
    "# **Build a machine learning model**\n"
   ]
  },
  {
   "cell_type": "markdown",
   "metadata": {
    "id": "NzDjfCSLf6Jq"
   },
   "source": [
    "<img src=\"images/Pace.png\" width=\"100\" height=\"100\" align=left>\n",
    "\n",
    "# **PACE stages**\n"
   ]
  },
  {
   "cell_type": "markdown",
   "metadata": {
    "id": "R8kJRDEKn4A-"
   },
   "source": [
    "Throughout these project notebooks, you'll see references to the problem-solving framework PACE. The following notebook components are labeled with the respective PACE stage: Plan, Analyze, Construct, and Execute."
   ]
  },
  {
   "cell_type": "markdown",
   "metadata": {
    "id": "E5g1A74r0ow_"
   },
   "source": [
    "<img src=\"images/Plan.png\" width=\"100\" height=\"100\" align=left>\n",
    "\n",
    "\n",
    "## **PACE: Plan**\n",
    "\n",
    "Consider the questions in your PACE Strategy Document to reflect on the Plan stage.\n",
    "\n",
    "In this stage, consider the following questions:\n",
    "\n",
    "1.   What are you being asked to do?\n",
    "\n",
    "\n",
    "2.   What are the ethical implications of the model? What are the consequences of your model making errors?\n",
    "  *   What is the likely effect of the model when it predicts a false negative (i.e., when the model says a Waze user won't churn, but they actually will)?\n",
    "  *   What is the likely effect of the model when it predicts a false positive (i.e., when the model says a Waze user will churn, but they actually won't)?\n",
    "\n",
    "3.  Do the benefits of such a model outweigh the potential problems?\n",
    "4.  Would you proceed with the request to build this model? Why or why not?\n",
    "\n"
   ]
  },
  {
   "cell_type": "markdown",
   "metadata": {
    "id": "y755T4Q18iwC"
   },
   "source": [
    "==> ENTER YOUR RESPONSES TO QUESTIONS 1-4 HERE\n",
    "\n",
    "1. Build a machine learning model that predicts whether a user will churn or not\n",
    "2. Even if a user churns when the model says they won't, the ethical implications are minimal.\n",
    "3. According to me the benefits do outweigh the potential problems.\n",
    "4. I would proceed with the request, I think even if there may be some errors made by the model, it can still help leadership tp make decisions."
   ]
  },
  {
   "cell_type": "markdown",
   "metadata": {
    "id": "e8Vm3QEfGELS"
   },
   "source": [
    "### **Task 1. Imports and data loading**\n",
    "\n",
    "Import packages and libraries needed to build and evaluate random forest and XGBoost classification models."
   ]
  },
  {
   "cell_type": "code",
   "execution_count": 1,
   "metadata": {},
   "outputs": [
    {
     "name": "stdout",
     "output_type": "stream",
     "text": [
      "Requirement already satisfied: xgboost in /Users/rubaiyatbinislam/opt/anaconda3/lib/python3.9/site-packages (2.1.1)\n",
      "Requirement already satisfied: numpy in /Users/rubaiyatbinislam/opt/anaconda3/lib/python3.9/site-packages (from xgboost) (1.22.4)\n",
      "Requirement already satisfied: scipy in /Users/rubaiyatbinislam/opt/anaconda3/lib/python3.9/site-packages (from xgboost) (1.7.1)\n",
      "\n",
      "\u001b[1m[\u001b[0m\u001b[34;49mnotice\u001b[0m\u001b[1;39;49m]\u001b[0m\u001b[39;49m A new release of pip is available: \u001b[0m\u001b[31;49m23.1.2\u001b[0m\u001b[39;49m -> \u001b[0m\u001b[32;49m24.2\u001b[0m\n",
      "\u001b[1m[\u001b[0m\u001b[34;49mnotice\u001b[0m\u001b[1;39;49m]\u001b[0m\u001b[39;49m To update, run: \u001b[0m\u001b[32;49mpip install --upgrade pip\u001b[0m\n",
      "Note: you may need to restart the kernel to use updated packages.\n"
     ]
    }
   ],
   "source": [
    "pip install xgboost"
   ]
  },
  {
   "cell_type": "code",
   "execution_count": 2,
   "metadata": {
    "id": "fKhnX2Puf4Bt",
    "scrolled": true
   },
   "outputs": [],
   "source": [
    "# Import packages for data manipulation\n",
    "import numpy as np\n",
    "import pandas as pd\n",
    "\n",
    "# Import packages for data visualization\n",
    "import matplotlib.pyplot as plt\n",
    "\n",
    "# This lets us see all of the columns, preventing Juptyer from redacting them.\n",
    "pd.set_option('display.max_columns', None)\n",
    "\n",
    "# Import packages for data modeling\n",
    "from sklearn.model_selection import train_test_split\n",
    "from sklearn.tree import DecisionTreeClassifier\n",
    "from sklearn.tree import plot_tree\n",
    "\n",
    "from sklearn.metrics import ConfusionMatrixDisplay, confusion_matrix\n",
    "from sklearn.metrics import recall_score, precision_score, f1_score, accuracy_score\n",
    "\n",
    "from sklearn.ensemble import RandomForestClassifier\n",
    "from xgboost import XGBClassifier\n",
    "\n",
    "# This is the function that helps plot feature importance\n",
    "from xgboost import plot_importance\n",
    "\n",
    "# This module lets us save our models once we fit them.\n",
    "import pickle"
   ]
  },
  {
   "cell_type": "markdown",
   "metadata": {
    "id": "IeXTZ2tdbALL"
   },
   "source": [
    "Now read in the dataset as `df0` and inspect the first five rows.\n",
    "\n",
    "**Note:** As shown in this cell, the dataset has been automatically loaded in for you. You do not need to download the .csv file, or provide more code, in order to access the dataset and proceed with this lab. Please continue with this activity by completing the following instructions."
   ]
  },
  {
   "cell_type": "code",
   "execution_count": 3,
   "metadata": {
    "id": "5weTXGKqa_iG"
   },
   "outputs": [],
   "source": [
    "# Import dataset\n",
    "df0 = pd.read_csv('waze_dataset.csv')"
   ]
  },
  {
   "cell_type": "code",
   "execution_count": 4,
   "metadata": {
    "id": "1HyORSaQo_LU"
   },
   "outputs": [
    {
     "data": {
      "text/html": [
       "<div>\n",
       "<style scoped>\n",
       "    .dataframe tbody tr th:only-of-type {\n",
       "        vertical-align: middle;\n",
       "    }\n",
       "\n",
       "    .dataframe tbody tr th {\n",
       "        vertical-align: top;\n",
       "    }\n",
       "\n",
       "    .dataframe thead th {\n",
       "        text-align: right;\n",
       "    }\n",
       "</style>\n",
       "<table border=\"1\" class=\"dataframe\">\n",
       "  <thead>\n",
       "    <tr style=\"text-align: right;\">\n",
       "      <th></th>\n",
       "      <th>ID</th>\n",
       "      <th>label</th>\n",
       "      <th>sessions</th>\n",
       "      <th>drives</th>\n",
       "      <th>total_sessions</th>\n",
       "      <th>n_days_after_onboarding</th>\n",
       "      <th>total_navigations_fav1</th>\n",
       "      <th>total_navigations_fav2</th>\n",
       "      <th>driven_km_drives</th>\n",
       "      <th>duration_minutes_drives</th>\n",
       "      <th>activity_days</th>\n",
       "      <th>driving_days</th>\n",
       "      <th>device</th>\n",
       "    </tr>\n",
       "  </thead>\n",
       "  <tbody>\n",
       "    <tr>\n",
       "      <th>0</th>\n",
       "      <td>0</td>\n",
       "      <td>retained</td>\n",
       "      <td>283</td>\n",
       "      <td>226</td>\n",
       "      <td>296.748273</td>\n",
       "      <td>2276</td>\n",
       "      <td>208</td>\n",
       "      <td>0</td>\n",
       "      <td>2628.845068</td>\n",
       "      <td>1985.775061</td>\n",
       "      <td>28</td>\n",
       "      <td>19</td>\n",
       "      <td>Android</td>\n",
       "    </tr>\n",
       "    <tr>\n",
       "      <th>1</th>\n",
       "      <td>1</td>\n",
       "      <td>retained</td>\n",
       "      <td>133</td>\n",
       "      <td>107</td>\n",
       "      <td>326.896596</td>\n",
       "      <td>1225</td>\n",
       "      <td>19</td>\n",
       "      <td>64</td>\n",
       "      <td>13715.920550</td>\n",
       "      <td>3160.472914</td>\n",
       "      <td>13</td>\n",
       "      <td>11</td>\n",
       "      <td>iPhone</td>\n",
       "    </tr>\n",
       "    <tr>\n",
       "      <th>2</th>\n",
       "      <td>2</td>\n",
       "      <td>retained</td>\n",
       "      <td>114</td>\n",
       "      <td>95</td>\n",
       "      <td>135.522926</td>\n",
       "      <td>2651</td>\n",
       "      <td>0</td>\n",
       "      <td>0</td>\n",
       "      <td>3059.148818</td>\n",
       "      <td>1610.735904</td>\n",
       "      <td>14</td>\n",
       "      <td>8</td>\n",
       "      <td>Android</td>\n",
       "    </tr>\n",
       "    <tr>\n",
       "      <th>3</th>\n",
       "      <td>3</td>\n",
       "      <td>retained</td>\n",
       "      <td>49</td>\n",
       "      <td>40</td>\n",
       "      <td>67.589221</td>\n",
       "      <td>15</td>\n",
       "      <td>322</td>\n",
       "      <td>7</td>\n",
       "      <td>913.591123</td>\n",
       "      <td>587.196542</td>\n",
       "      <td>7</td>\n",
       "      <td>3</td>\n",
       "      <td>iPhone</td>\n",
       "    </tr>\n",
       "    <tr>\n",
       "      <th>4</th>\n",
       "      <td>4</td>\n",
       "      <td>retained</td>\n",
       "      <td>84</td>\n",
       "      <td>68</td>\n",
       "      <td>168.247020</td>\n",
       "      <td>1562</td>\n",
       "      <td>166</td>\n",
       "      <td>5</td>\n",
       "      <td>3950.202008</td>\n",
       "      <td>1219.555924</td>\n",
       "      <td>27</td>\n",
       "      <td>18</td>\n",
       "      <td>Android</td>\n",
       "    </tr>\n",
       "  </tbody>\n",
       "</table>\n",
       "</div>"
      ],
      "text/plain": [
       "   ID     label  sessions  drives  total_sessions  n_days_after_onboarding  \\\n",
       "0   0  retained       283     226      296.748273                     2276   \n",
       "1   1  retained       133     107      326.896596                     1225   \n",
       "2   2  retained       114      95      135.522926                     2651   \n",
       "3   3  retained        49      40       67.589221                       15   \n",
       "4   4  retained        84      68      168.247020                     1562   \n",
       "\n",
       "   total_navigations_fav1  total_navigations_fav2  driven_km_drives  \\\n",
       "0                     208                       0       2628.845068   \n",
       "1                      19                      64      13715.920550   \n",
       "2                       0                       0       3059.148818   \n",
       "3                     322                       7        913.591123   \n",
       "4                     166                       5       3950.202008   \n",
       "\n",
       "   duration_minutes_drives  activity_days  driving_days   device  \n",
       "0              1985.775061             28            19  Android  \n",
       "1              3160.472914             13            11   iPhone  \n",
       "2              1610.735904             14             8  Android  \n",
       "3               587.196542              7             3   iPhone  \n",
       "4              1219.555924             27            18  Android  "
      ]
     },
     "execution_count": 4,
     "metadata": {},
     "output_type": "execute_result"
    }
   ],
   "source": [
    "# Inspect the first five rows\n",
    "df0.head()"
   ]
  },
  {
   "cell_type": "markdown",
   "metadata": {
    "id": "EgPRBjizg1oo"
   },
   "source": [
    "<img src=\"images/Analyze.png\" width=\"100\" height=\"100\" align=left>\n",
    "\n",
    "## **PACE: Analyze**\n",
    "Consider the questions in your PACE Strategy Document to reflect on the Analyze stage."
   ]
  },
  {
   "cell_type": "markdown",
   "metadata": {
    "id": "5VZowX9rhU1o"
   },
   "source": [
    "### **Task 2. Feature engineering**\n",
    "\n",
    "You have already prepared much of this data and performed exploratory data analysis (EDA) in previous courses. You know that some features had stronger correlations with churn than others, and you also created some features that may be useful.\n",
    "\n",
    "In this part of the project, you'll engineer these features and some new features to use for modeling.\n",
    "\n",
    "To begin, create a copy of `df0` to preserve the original dataframe. Call the copy `df`."
   ]
  },
  {
   "cell_type": "code",
   "execution_count": 5,
   "metadata": {
    "id": "mBOSW8IDbO_d"
   },
   "outputs": [],
   "source": [
    "# Copy the df0 dataframe\n",
    "df = df0"
   ]
  },
  {
   "cell_type": "markdown",
   "metadata": {
    "id": "fTgC9H_tt-G2"
   },
   "source": [
    "Call `info()` on the new dataframe so the existing columns can be easily referenced."
   ]
  },
  {
   "cell_type": "code",
   "execution_count": 6,
   "metadata": {
    "id": "teUeCF-yf_6o"
   },
   "outputs": [
    {
     "name": "stdout",
     "output_type": "stream",
     "text": [
      "<class 'pandas.core.frame.DataFrame'>\n",
      "RangeIndex: 14999 entries, 0 to 14998\n",
      "Data columns (total 13 columns):\n",
      " #   Column                   Non-Null Count  Dtype  \n",
      "---  ------                   --------------  -----  \n",
      " 0   ID                       14999 non-null  int64  \n",
      " 1   label                    14299 non-null  object \n",
      " 2   sessions                 14999 non-null  int64  \n",
      " 3   drives                   14999 non-null  int64  \n",
      " 4   total_sessions           14999 non-null  float64\n",
      " 5   n_days_after_onboarding  14999 non-null  int64  \n",
      " 6   total_navigations_fav1   14999 non-null  int64  \n",
      " 7   total_navigations_fav2   14999 non-null  int64  \n",
      " 8   driven_km_drives         14999 non-null  float64\n",
      " 9   duration_minutes_drives  14999 non-null  float64\n",
      " 10  activity_days            14999 non-null  int64  \n",
      " 11  driving_days             14999 non-null  int64  \n",
      " 12  device                   14999 non-null  object \n",
      "dtypes: float64(3), int64(8), object(2)\n",
      "memory usage: 1.5+ MB\n"
     ]
    }
   ],
   "source": [
    "df.info()"
   ]
  },
  {
   "cell_type": "markdown",
   "metadata": {
    "id": "BPtJEHjcuepR"
   },
   "source": [
    "#### **`km_per_driving_day`**\n",
    "\n",
    "1. Create a feature representing the mean number of kilometers driven on each driving day in the last month for each user. Add this feature as a column to `df`.\n",
    "\n",
    "2. Get descriptive statistics for this new feature\n",
    "\n"
   ]
  },
  {
   "cell_type": "code",
   "execution_count": 7,
   "metadata": {
    "id": "vAB6cv6xfvZn"
   },
   "outputs": [
    {
     "data": {
      "text/plain": [
       "count    1.499900e+04\n",
       "mean              inf\n",
       "std               NaN\n",
       "min      3.022063e+00\n",
       "25%      1.672804e+02\n",
       "50%      3.231459e+02\n",
       "75%      7.579257e+02\n",
       "max               inf\n",
       "Name: km_per_driving_day, dtype: float64"
      ]
     },
     "execution_count": 7,
     "metadata": {},
     "output_type": "execute_result"
    }
   ],
   "source": [
    "# 1. Create `km_per_driving_day` feature\n",
    "df['km_per_driving_day'] = df['driven_km_drives']/df['driving_days']\n",
    "\n",
    "# 2. Get descriptive stats\n",
    "df['km_per_driving_day'].describe()"
   ]
  },
  {
   "cell_type": "markdown",
   "metadata": {
    "id": "MSqM4oiyuuzw"
   },
   "source": [
    "Notice that some values are infinite. This is the result of there being values of zero in the `driving_days` column. Pandas imputes a value of infinity in the corresponding rows of the new column because division by zero is undefined.\n",
    "\n",
    "1. Convert these values from infinity to zero. You can use `np.inf` to refer to a value of infinity.\n",
    "\n",
    "2. Call `describe()` on the `km_per_driving_day` column to verify that it worked."
   ]
  },
  {
   "cell_type": "code",
   "execution_count": 8,
   "metadata": {
    "id": "vv3owriWuuDQ"
   },
   "outputs": [
    {
     "data": {
      "text/plain": [
       "count    14999.000000\n",
       "mean       578.963113\n",
       "std       1030.094384\n",
       "min          0.000000\n",
       "25%        136.238895\n",
       "50%        272.889272\n",
       "75%        558.686918\n",
       "max      15420.234110\n",
       "Name: km_per_driving_day, dtype: float64"
      ]
     },
     "execution_count": 8,
     "metadata": {},
     "output_type": "execute_result"
    }
   ],
   "source": [
    "# 1. Convert infinite values to zero\n",
    "df.loc[df['km_per_driving_day']==np.inf, 'km_per_driving_day']=0; \n",
    "\n",
    "# 2. Confirm that it worked\n",
    "df['km_per_driving_day'].describe()"
   ]
  },
  {
   "cell_type": "markdown",
   "metadata": {
    "id": "nZfNE37b-LlJ"
   },
   "source": [
    "#### **`percent_sessions_in_last_month`**\n",
    "\n",
    "1. Create a new column `percent_sessions_in_last_month` that represents the percentage of each user's total sessions that were logged in their last month of use.\n",
    "\n",
    "2. Get descriptive statistics for this new feature"
   ]
  },
  {
   "cell_type": "code",
   "execution_count": 9,
   "metadata": {
    "id": "4mRefXCF-K_c"
   },
   "outputs": [
    {
     "data": {
      "text/plain": [
       "count    14999.000000\n",
       "mean         0.449255\n",
       "std          0.286919\n",
       "min          0.000000\n",
       "25%          0.196221\n",
       "50%          0.423097\n",
       "75%          0.687216\n",
       "max          1.530637\n",
       "Name: percent_sessions_in_last_month, dtype: float64"
      ]
     },
     "execution_count": 9,
     "metadata": {},
     "output_type": "execute_result"
    }
   ],
   "source": [
    "# 1. Create `percent_sessions_in_last_month` feature\n",
    "df['percent_sessions_in_last_month']=df['sessions']/df['total_sessions']\n",
    "\n",
    "# 1. Get descriptive stats\n",
    "df['percent_sessions_in_last_month'].describe()"
   ]
  },
  {
   "cell_type": "markdown",
   "metadata": {
    "id": "TjgkLrOf_OrE"
   },
   "source": [
    "#### **`professional_driver`**\n",
    "\n",
    "Create a new, binary feature called `professional_driver` that is a 1 for users who had 60 or more drives <u>**and**</u> drove on 15+ days in the last month.\n",
    "\n",
    "**Note:** The objective is to create a new feature that separates professional drivers from other drivers. In this scenario, domain knowledge and intuition are used to determine these deciding thresholds, but ultimately they are arbitrary."
   ]
  },
  {
   "cell_type": "markdown",
   "metadata": {
    "id": "L5UK5jR6U9t1"
   },
   "source": [
    "To create this column, use the [`np.where()`](https://numpy.org/doc/stable/reference/generated/numpy.where.html) function. This function accepts as arguments:\n",
    "1. A condition\n",
    "2. What to return when the condition is true\n",
    "3. What to return when the condition is false\n",
    "\n",
    "```\n",
    "Example:\n",
    "x = [1, 2, 3]\n",
    "x = np.where(x > 2, 100, 0)\n",
    "x\n",
    "array([  0,   0, 100])\n",
    "```"
   ]
  },
  {
   "cell_type": "code",
   "execution_count": 10,
   "metadata": {
    "id": "dQdMgikKU-5T"
   },
   "outputs": [],
   "source": [
    "# Create `professional_driver` feature\n",
    "df['professional_driver'] = np.where((df['drives']>=60) & (df['driving_days']>=15), 1, 0)"
   ]
  },
  {
   "cell_type": "markdown",
   "metadata": {
    "id": "J3bWzofHVIuC"
   },
   "source": [
    "#### **`total_sessions_per_day`**\n",
    "\n",
    "Now, create a new column that represents the mean number of sessions per day _since onboarding_."
   ]
  },
  {
   "cell_type": "code",
   "execution_count": 11,
   "metadata": {
    "id": "bWXPMPHSVJQd"
   },
   "outputs": [],
   "source": [
    "# Create `total_sessions_per_day` feature\n",
    "df['total_sessions_per_day'] = df['total_sessions'] / df['n_days_after_onboarding']"
   ]
  },
  {
   "cell_type": "markdown",
   "metadata": {
    "id": "8HLX7SwJVJlO"
   },
   "source": [
    "As with other features, get descriptive statistics for this new feature."
   ]
  },
  {
   "cell_type": "code",
   "execution_count": 12,
   "metadata": {
    "id": "h1DFSMNSVKEg"
   },
   "outputs": [
    {
     "data": {
      "text/plain": [
       "count    14999.000000\n",
       "mean         0.338698\n",
       "std          1.314333\n",
       "min          0.000298\n",
       "25%          0.051037\n",
       "50%          0.100775\n",
       "75%          0.216269\n",
       "max         39.763874\n",
       "Name: total_sessions_per_day, dtype: float64"
      ]
     },
     "execution_count": 12,
     "metadata": {},
     "output_type": "execute_result"
    }
   ],
   "source": [
    "# Get descriptive stats\n",
    "df['total_sessions_per_day'].describe()"
   ]
  },
  {
   "cell_type": "markdown",
   "metadata": {
    "id": "c6sCAgOoVZM7"
   },
   "source": [
    "#### **`km_per_hour`**\n",
    "\n",
    "Create a column representing the mean kilometers per hour driven in the last month."
   ]
  },
  {
   "cell_type": "code",
   "execution_count": 13,
   "metadata": {
    "id": "Zu142H3aVc3o"
   },
   "outputs": [],
   "source": [
    "# Create `km_per_hour` feature\n",
    "df['km_per_hour'] = df['driven_km_drives'] / (df['duration_minutes_drives'] / 60)"
   ]
  },
  {
   "cell_type": "markdown",
   "metadata": {
    "id": "8d6N9jf8ViW-"
   },
   "source": [
    "#### **`km_per_drive`**\n",
    "\n",
    "Create a column representing the mean number of kilometers per drive made in the last month for each user. Then, print descriptive statistics for the feature."
   ]
  },
  {
   "cell_type": "code",
   "execution_count": 14,
   "metadata": {
    "id": "v5R5-MteVlMB"
   },
   "outputs": [
    {
     "data": {
      "text/plain": [
       "count    1.499900e+04\n",
       "mean              inf\n",
       "std               NaN\n",
       "min      1.008775e+00\n",
       "25%      3.323065e+01\n",
       "50%      7.488006e+01\n",
       "75%      1.854667e+02\n",
       "max               inf\n",
       "Name: km_per_drive, dtype: float64"
      ]
     },
     "execution_count": 14,
     "metadata": {},
     "output_type": "execute_result"
    }
   ],
   "source": [
    "# Create `km_per_drive` feature\n",
    "df['km_per_drive'] = df['driven_km_drives'] / df['drives']\n",
    "df['km_per_drive'].describe()"
   ]
  },
  {
   "cell_type": "markdown",
   "metadata": {
    "id": "txY8qR1LVlq1"
   },
   "source": [
    "This feature has infinite values too. Convert the infinite values to zero, then confirm that it worked."
   ]
  },
  {
   "cell_type": "code",
   "execution_count": 15,
   "metadata": {
    "id": "PZrHMuPuVmIt"
   },
   "outputs": [
    {
     "data": {
      "text/plain": [
       "count    14999.000000\n",
       "mean       232.817946\n",
       "std        620.622351\n",
       "min          0.000000\n",
       "25%         32.424301\n",
       "50%         72.854343\n",
       "75%        179.347527\n",
       "max      15777.426560\n",
       "Name: km_per_drive, dtype: float64"
      ]
     },
     "execution_count": 15,
     "metadata": {},
     "output_type": "execute_result"
    }
   ],
   "source": [
    "# 1. Convert infinite values to zero\n",
    "df.loc[df['km_per_drive']==np.inf, 'km_per_drive']=0; \n",
    "\n",
    "# 2. Confirm that it worked\n",
    "df['km_per_drive'].describe()"
   ]
  },
  {
   "cell_type": "markdown",
   "metadata": {
    "id": "O5Sxs6agVunA"
   },
   "source": [
    "#### **`percent_of_sessions_to_favorite`**\n",
    "\n",
    "Finally, create a new column that represents the percentage of total sessions that were used to navigate to one of the users' favorite places. Then, print descriptive statistics for the new column.\n",
    "\n",
    "This is a proxy representation for the percent of overall drives that are to a favorite place. Since total drives since onboarding are not contained in this dataset, total sessions must serve as a reasonable approximation.\n",
    "\n",
    "People whose drives to non-favorite places make up a higher percentage of their total drives might be less likely to churn, since they're making more drives to less familiar places."
   ]
  },
  {
   "cell_type": "code",
   "execution_count": 16,
   "metadata": {
    "id": "vh22o46AVxd_"
   },
   "outputs": [
    {
     "data": {
      "text/plain": [
       "count    14999.000000\n",
       "mean         1.665439\n",
       "std          8.865666\n",
       "min          0.000000\n",
       "25%          0.203471\n",
       "50%          0.649818\n",
       "75%          1.638526\n",
       "max        777.563629\n",
       "Name: percent_of_sessions_to_favorite, dtype: float64"
      ]
     },
     "execution_count": 16,
     "metadata": {},
     "output_type": "execute_result"
    }
   ],
   "source": [
    "# Create `percent_of_sessions_to_favorite` feature\n",
    "df['percent_of_sessions_to_favorite'] = (df['total_navigations_fav1']+df['total_navigations_fav2'])/df['total_sessions']\n",
    "\n",
    "# Get descriptive stats\n",
    "df['percent_of_sessions_to_favorite'].describe()"
   ]
  },
  {
   "cell_type": "markdown",
   "metadata": {
    "id": "IZO0mvHRWGmF"
   },
   "source": [
    "### **Task 3. Drop missing values**\n",
    "\n",
    "Because you know from previous EDA that there is no evidence of a non-random cause of the 700 missing values in the `label` column, and because these observations comprise less than 5% of the data, use the `dropna()` method to drop the rows that are missing this data."
   ]
  },
  {
   "cell_type": "code",
   "execution_count": 17,
   "metadata": {
    "id": "2TdA6SnGWJY-"
   },
   "outputs": [],
   "source": [
    "# Drop rows with missing values\n",
    "df = df.dropna(subset=['label'])"
   ]
  },
  {
   "cell_type": "markdown",
   "metadata": {
    "id": "Du5kGt5CWJ4J"
   },
   "source": [
    "### **Task 4. Outliers**\n",
    "\n",
    "You know from previous EDA that many of these columns have outliers. However, tree-based models are resilient to outliers, so there is no need to make any imputations."
   ]
  },
  {
   "cell_type": "markdown",
   "metadata": {
    "id": "kxBYyXDSWPkw"
   },
   "source": [
    "### **Task 5. Variable encoding**"
   ]
  },
  {
   "cell_type": "markdown",
   "metadata": {
    "id": "57psLWIeaTk2"
   },
   "source": [
    "#### **Dummying features**\n",
    "\n",
    "In order to use `device` as an X variable, you will need to convert it to binary, since this variable is categorical.\n",
    "\n",
    "In cases where the data contains many categorical variables, you can use pandas built-in [`pd.get_dummies()`](https://pandas.pydata.org/docs/reference/api/pandas.get_dummies.html), or you can use scikit-learn's [`OneHotEncoder()`](https://scikit-learn.org/stable/modules/generated/sklearn.preprocessing.OneHotEncoder.html) function.\n",
    "\n",
    "**Note:** Each possible category of each feature will result in a feature for your model, which could lead to an inadequate ratio of features to observations and/or difficulty understanding your model's predictions.\n",
    "\n",
    "Because this dataset only has one remaining categorical feature (`device`), it's not necessary to use one of these special functions. You can just implement the transformation directly.\n",
    "\n",
    "Create a new, binary column called `device2` that encodes user devices as follows:\n",
    "\n",
    "* `Android` -> `0`\n",
    "* `iPhone` -> `1`"
   ]
  },
  {
   "cell_type": "code",
   "execution_count": 20,
   "metadata": {
    "id": "fntUcR4-aUfH"
   },
   "outputs": [
    {
     "name": "stderr",
     "output_type": "stream",
     "text": [
      "/var/folders/77/y6gtmx8d687_4xqlf5hz3z7r0000gn/T/ipykernel_31254/168990890.py:4: SettingWithCopyWarning: \n",
      "A value is trying to be set on a copy of a slice from a DataFrame.\n",
      "Try using .loc[row_indexer,col_indexer] = value instead\n",
      "\n",
      "See the caveats in the documentation: https://pandas.pydata.org/pandas-docs/stable/user_guide/indexing.html#returning-a-view-versus-a-copy\n",
      "  df['device2'] = df['device']\n",
      "/var/folders/77/y6gtmx8d687_4xqlf5hz3z7r0000gn/T/ipykernel_31254/168990890.py:6: SettingWithCopyWarning: \n",
      "A value is trying to be set on a copy of a slice from a DataFrame.\n",
      "Try using .loc[row_indexer,col_indexer] = value instead\n",
      "\n",
      "See the caveats in the documentation: https://pandas.pydata.org/pandas-docs/stable/user_guide/indexing.html#returning-a-view-versus-a-copy\n",
      "  df['device2'] = df['device2'].map(map_dictionary)\n"
     ]
    },
    {
     "data": {
      "text/html": [
       "<div>\n",
       "<style scoped>\n",
       "    .dataframe tbody tr th:only-of-type {\n",
       "        vertical-align: middle;\n",
       "    }\n",
       "\n",
       "    .dataframe tbody tr th {\n",
       "        vertical-align: top;\n",
       "    }\n",
       "\n",
       "    .dataframe thead th {\n",
       "        text-align: right;\n",
       "    }\n",
       "</style>\n",
       "<table border=\"1\" class=\"dataframe\">\n",
       "  <thead>\n",
       "    <tr style=\"text-align: right;\">\n",
       "      <th></th>\n",
       "      <th>ID</th>\n",
       "      <th>label</th>\n",
       "      <th>sessions</th>\n",
       "      <th>drives</th>\n",
       "      <th>total_sessions</th>\n",
       "      <th>n_days_after_onboarding</th>\n",
       "      <th>total_navigations_fav1</th>\n",
       "      <th>total_navigations_fav2</th>\n",
       "      <th>driven_km_drives</th>\n",
       "      <th>duration_minutes_drives</th>\n",
       "      <th>activity_days</th>\n",
       "      <th>driving_days</th>\n",
       "      <th>device</th>\n",
       "      <th>km_per_driving_day</th>\n",
       "      <th>percent_sessions_in_last_month</th>\n",
       "      <th>professional_driver</th>\n",
       "      <th>total_sessions_per_day</th>\n",
       "      <th>km_per_hour</th>\n",
       "      <th>km_per_drive</th>\n",
       "      <th>percent_of_sessions_to_favorite</th>\n",
       "      <th>device2</th>\n",
       "    </tr>\n",
       "  </thead>\n",
       "  <tbody>\n",
       "    <tr>\n",
       "      <th>0</th>\n",
       "      <td>0</td>\n",
       "      <td>retained</td>\n",
       "      <td>283</td>\n",
       "      <td>226</td>\n",
       "      <td>296.748273</td>\n",
       "      <td>2276</td>\n",
       "      <td>208</td>\n",
       "      <td>0</td>\n",
       "      <td>2628.845068</td>\n",
       "      <td>1985.775061</td>\n",
       "      <td>28</td>\n",
       "      <td>19</td>\n",
       "      <td>Android</td>\n",
       "      <td>138.360267</td>\n",
       "      <td>0.953670</td>\n",
       "      <td>1</td>\n",
       "      <td>0.130381</td>\n",
       "      <td>79.430298</td>\n",
       "      <td>11.632058</td>\n",
       "      <td>0.700931</td>\n",
       "      <td>0</td>\n",
       "    </tr>\n",
       "    <tr>\n",
       "      <th>1</th>\n",
       "      <td>1</td>\n",
       "      <td>retained</td>\n",
       "      <td>133</td>\n",
       "      <td>107</td>\n",
       "      <td>326.896596</td>\n",
       "      <td>1225</td>\n",
       "      <td>19</td>\n",
       "      <td>64</td>\n",
       "      <td>13715.920550</td>\n",
       "      <td>3160.472914</td>\n",
       "      <td>13</td>\n",
       "      <td>11</td>\n",
       "      <td>iPhone</td>\n",
       "      <td>1246.901868</td>\n",
       "      <td>0.406856</td>\n",
       "      <td>0</td>\n",
       "      <td>0.266854</td>\n",
       "      <td>260.389902</td>\n",
       "      <td>128.186173</td>\n",
       "      <td>0.253903</td>\n",
       "      <td>1</td>\n",
       "    </tr>\n",
       "    <tr>\n",
       "      <th>2</th>\n",
       "      <td>2</td>\n",
       "      <td>retained</td>\n",
       "      <td>114</td>\n",
       "      <td>95</td>\n",
       "      <td>135.522926</td>\n",
       "      <td>2651</td>\n",
       "      <td>0</td>\n",
       "      <td>0</td>\n",
       "      <td>3059.148818</td>\n",
       "      <td>1610.735904</td>\n",
       "      <td>14</td>\n",
       "      <td>8</td>\n",
       "      <td>Android</td>\n",
       "      <td>382.393602</td>\n",
       "      <td>0.841186</td>\n",
       "      <td>0</td>\n",
       "      <td>0.051121</td>\n",
       "      <td>113.953460</td>\n",
       "      <td>32.201567</td>\n",
       "      <td>0.000000</td>\n",
       "      <td>0</td>\n",
       "    </tr>\n",
       "    <tr>\n",
       "      <th>3</th>\n",
       "      <td>3</td>\n",
       "      <td>retained</td>\n",
       "      <td>49</td>\n",
       "      <td>40</td>\n",
       "      <td>67.589221</td>\n",
       "      <td>15</td>\n",
       "      <td>322</td>\n",
       "      <td>7</td>\n",
       "      <td>913.591123</td>\n",
       "      <td>587.196542</td>\n",
       "      <td>7</td>\n",
       "      <td>3</td>\n",
       "      <td>iPhone</td>\n",
       "      <td>304.530374</td>\n",
       "      <td>0.724968</td>\n",
       "      <td>0</td>\n",
       "      <td>4.505948</td>\n",
       "      <td>93.351141</td>\n",
       "      <td>22.839778</td>\n",
       "      <td>4.867640</td>\n",
       "      <td>1</td>\n",
       "    </tr>\n",
       "    <tr>\n",
       "      <th>4</th>\n",
       "      <td>4</td>\n",
       "      <td>retained</td>\n",
       "      <td>84</td>\n",
       "      <td>68</td>\n",
       "      <td>168.247020</td>\n",
       "      <td>1562</td>\n",
       "      <td>166</td>\n",
       "      <td>5</td>\n",
       "      <td>3950.202008</td>\n",
       "      <td>1219.555924</td>\n",
       "      <td>27</td>\n",
       "      <td>18</td>\n",
       "      <td>Android</td>\n",
       "      <td>219.455667</td>\n",
       "      <td>0.499266</td>\n",
       "      <td>1</td>\n",
       "      <td>0.107713</td>\n",
       "      <td>194.342970</td>\n",
       "      <td>58.091206</td>\n",
       "      <td>1.016363</td>\n",
       "      <td>0</td>\n",
       "    </tr>\n",
       "    <tr>\n",
       "      <th>...</th>\n",
       "      <td>...</td>\n",
       "      <td>...</td>\n",
       "      <td>...</td>\n",
       "      <td>...</td>\n",
       "      <td>...</td>\n",
       "      <td>...</td>\n",
       "      <td>...</td>\n",
       "      <td>...</td>\n",
       "      <td>...</td>\n",
       "      <td>...</td>\n",
       "      <td>...</td>\n",
       "      <td>...</td>\n",
       "      <td>...</td>\n",
       "      <td>...</td>\n",
       "      <td>...</td>\n",
       "      <td>...</td>\n",
       "      <td>...</td>\n",
       "      <td>...</td>\n",
       "      <td>...</td>\n",
       "      <td>...</td>\n",
       "      <td>...</td>\n",
       "    </tr>\n",
       "    <tr>\n",
       "      <th>14994</th>\n",
       "      <td>14994</td>\n",
       "      <td>retained</td>\n",
       "      <td>60</td>\n",
       "      <td>55</td>\n",
       "      <td>207.875622</td>\n",
       "      <td>140</td>\n",
       "      <td>317</td>\n",
       "      <td>0</td>\n",
       "      <td>2890.496901</td>\n",
       "      <td>2186.155708</td>\n",
       "      <td>25</td>\n",
       "      <td>17</td>\n",
       "      <td>iPhone</td>\n",
       "      <td>170.029229</td>\n",
       "      <td>0.288634</td>\n",
       "      <td>0</td>\n",
       "      <td>1.484826</td>\n",
       "      <td>79.330952</td>\n",
       "      <td>52.554489</td>\n",
       "      <td>1.524950</td>\n",
       "      <td>1</td>\n",
       "    </tr>\n",
       "    <tr>\n",
       "      <th>14995</th>\n",
       "      <td>14995</td>\n",
       "      <td>retained</td>\n",
       "      <td>42</td>\n",
       "      <td>35</td>\n",
       "      <td>187.670313</td>\n",
       "      <td>2505</td>\n",
       "      <td>15</td>\n",
       "      <td>10</td>\n",
       "      <td>4062.575194</td>\n",
       "      <td>1208.583193</td>\n",
       "      <td>25</td>\n",
       "      <td>20</td>\n",
       "      <td>Android</td>\n",
       "      <td>203.128760</td>\n",
       "      <td>0.223797</td>\n",
       "      <td>0</td>\n",
       "      <td>0.074918</td>\n",
       "      <td>201.686167</td>\n",
       "      <td>116.073577</td>\n",
       "      <td>0.133212</td>\n",
       "      <td>0</td>\n",
       "    </tr>\n",
       "    <tr>\n",
       "      <th>14996</th>\n",
       "      <td>14996</td>\n",
       "      <td>retained</td>\n",
       "      <td>273</td>\n",
       "      <td>219</td>\n",
       "      <td>422.017241</td>\n",
       "      <td>1873</td>\n",
       "      <td>17</td>\n",
       "      <td>0</td>\n",
       "      <td>3097.825028</td>\n",
       "      <td>1031.278706</td>\n",
       "      <td>18</td>\n",
       "      <td>17</td>\n",
       "      <td>iPhone</td>\n",
       "      <td>182.225002</td>\n",
       "      <td>0.646893</td>\n",
       "      <td>1</td>\n",
       "      <td>0.225316</td>\n",
       "      <td>180.232076</td>\n",
       "      <td>14.145320</td>\n",
       "      <td>0.040283</td>\n",
       "      <td>1</td>\n",
       "    </tr>\n",
       "    <tr>\n",
       "      <th>14997</th>\n",
       "      <td>14997</td>\n",
       "      <td>churned</td>\n",
       "      <td>149</td>\n",
       "      <td>120</td>\n",
       "      <td>180.524184</td>\n",
       "      <td>3150</td>\n",
       "      <td>45</td>\n",
       "      <td>0</td>\n",
       "      <td>4051.758549</td>\n",
       "      <td>254.187763</td>\n",
       "      <td>6</td>\n",
       "      <td>6</td>\n",
       "      <td>iPhone</td>\n",
       "      <td>675.293092</td>\n",
       "      <td>0.825374</td>\n",
       "      <td>0</td>\n",
       "      <td>0.057309</td>\n",
       "      <td>956.401322</td>\n",
       "      <td>33.764655</td>\n",
       "      <td>0.249274</td>\n",
       "      <td>1</td>\n",
       "    </tr>\n",
       "    <tr>\n",
       "      <th>14998</th>\n",
       "      <td>14998</td>\n",
       "      <td>retained</td>\n",
       "      <td>73</td>\n",
       "      <td>58</td>\n",
       "      <td>353.419797</td>\n",
       "      <td>3383</td>\n",
       "      <td>13</td>\n",
       "      <td>51</td>\n",
       "      <td>6030.498773</td>\n",
       "      <td>3042.436423</td>\n",
       "      <td>14</td>\n",
       "      <td>13</td>\n",
       "      <td>iPhone</td>\n",
       "      <td>463.884521</td>\n",
       "      <td>0.206553</td>\n",
       "      <td>0</td>\n",
       "      <td>0.104469</td>\n",
       "      <td>118.927687</td>\n",
       "      <td>103.974117</td>\n",
       "      <td>0.181088</td>\n",
       "      <td>1</td>\n",
       "    </tr>\n",
       "  </tbody>\n",
       "</table>\n",
       "<p>14299 rows × 21 columns</p>\n",
       "</div>"
      ],
      "text/plain": [
       "          ID     label  sessions  drives  total_sessions  \\\n",
       "0          0  retained       283     226      296.748273   \n",
       "1          1  retained       133     107      326.896596   \n",
       "2          2  retained       114      95      135.522926   \n",
       "3          3  retained        49      40       67.589221   \n",
       "4          4  retained        84      68      168.247020   \n",
       "...      ...       ...       ...     ...             ...   \n",
       "14994  14994  retained        60      55      207.875622   \n",
       "14995  14995  retained        42      35      187.670313   \n",
       "14996  14996  retained       273     219      422.017241   \n",
       "14997  14997   churned       149     120      180.524184   \n",
       "14998  14998  retained        73      58      353.419797   \n",
       "\n",
       "       n_days_after_onboarding  total_navigations_fav1  \\\n",
       "0                         2276                     208   \n",
       "1                         1225                      19   \n",
       "2                         2651                       0   \n",
       "3                           15                     322   \n",
       "4                         1562                     166   \n",
       "...                        ...                     ...   \n",
       "14994                      140                     317   \n",
       "14995                     2505                      15   \n",
       "14996                     1873                      17   \n",
       "14997                     3150                      45   \n",
       "14998                     3383                      13   \n",
       "\n",
       "       total_navigations_fav2  driven_km_drives  duration_minutes_drives  \\\n",
       "0                           0       2628.845068              1985.775061   \n",
       "1                          64      13715.920550              3160.472914   \n",
       "2                           0       3059.148818              1610.735904   \n",
       "3                           7        913.591123               587.196542   \n",
       "4                           5       3950.202008              1219.555924   \n",
       "...                       ...               ...                      ...   \n",
       "14994                       0       2890.496901              2186.155708   \n",
       "14995                      10       4062.575194              1208.583193   \n",
       "14996                       0       3097.825028              1031.278706   \n",
       "14997                       0       4051.758549               254.187763   \n",
       "14998                      51       6030.498773              3042.436423   \n",
       "\n",
       "       activity_days  driving_days   device  km_per_driving_day  \\\n",
       "0                 28            19  Android          138.360267   \n",
       "1                 13            11   iPhone         1246.901868   \n",
       "2                 14             8  Android          382.393602   \n",
       "3                  7             3   iPhone          304.530374   \n",
       "4                 27            18  Android          219.455667   \n",
       "...              ...           ...      ...                 ...   \n",
       "14994             25            17   iPhone          170.029229   \n",
       "14995             25            20  Android          203.128760   \n",
       "14996             18            17   iPhone          182.225002   \n",
       "14997              6             6   iPhone          675.293092   \n",
       "14998             14            13   iPhone          463.884521   \n",
       "\n",
       "       percent_sessions_in_last_month  professional_driver  \\\n",
       "0                            0.953670                    1   \n",
       "1                            0.406856                    0   \n",
       "2                            0.841186                    0   \n",
       "3                            0.724968                    0   \n",
       "4                            0.499266                    1   \n",
       "...                               ...                  ...   \n",
       "14994                        0.288634                    0   \n",
       "14995                        0.223797                    0   \n",
       "14996                        0.646893                    1   \n",
       "14997                        0.825374                    0   \n",
       "14998                        0.206553                    0   \n",
       "\n",
       "       total_sessions_per_day  km_per_hour  km_per_drive  \\\n",
       "0                    0.130381    79.430298     11.632058   \n",
       "1                    0.266854   260.389902    128.186173   \n",
       "2                    0.051121   113.953460     32.201567   \n",
       "3                    4.505948    93.351141     22.839778   \n",
       "4                    0.107713   194.342970     58.091206   \n",
       "...                       ...          ...           ...   \n",
       "14994                1.484826    79.330952     52.554489   \n",
       "14995                0.074918   201.686167    116.073577   \n",
       "14996                0.225316   180.232076     14.145320   \n",
       "14997                0.057309   956.401322     33.764655   \n",
       "14998                0.104469   118.927687    103.974117   \n",
       "\n",
       "       percent_of_sessions_to_favorite  device2  \n",
       "0                             0.700931        0  \n",
       "1                             0.253903        1  \n",
       "2                             0.000000        0  \n",
       "3                             4.867640        1  \n",
       "4                             1.016363        0  \n",
       "...                                ...      ...  \n",
       "14994                         1.524950        1  \n",
       "14995                         0.133212        0  \n",
       "14996                         0.040283        1  \n",
       "14997                         0.249274        1  \n",
       "14998                         0.181088        1  \n",
       "\n",
       "[14299 rows x 21 columns]"
      ]
     },
     "execution_count": 20,
     "metadata": {},
     "output_type": "execute_result"
    }
   ],
   "source": [
    "# Create new `device2` variable\n",
    "map_dictionary = {'iPhone': 1, 'Android': 0}\n",
    "\n",
    "df['device2'] = df['device']\n",
    "\n",
    "df['device2'] = df['device2'].map(map_dictionary)\n",
    "df"
   ]
  },
  {
   "cell_type": "markdown",
   "metadata": {
    "id": "LgbEm7cOb6t8"
   },
   "source": [
    "#### **Target encoding**\n",
    "\n",
    "The target variable is also categorical, since a user is labeled as either \"churned\" or \"retained.\" Change the data type of the `label` column to be binary. This change is needed to train the models.\n",
    "\n",
    "Assign a `0` for all `retained` users.\n",
    "\n",
    "Assign a `1` for all `churned` users.\n",
    "\n",
    "Save this variable as `label2` so as not to overwrite the original `label` variable.\n",
    "\n",
    "**Note:** There are many ways to do this. Consider using `np.where()` as you did earlier in this notebook."
   ]
  },
  {
   "cell_type": "code",
   "execution_count": 21,
   "metadata": {
    "id": "0jiVjplLb8W-"
   },
   "outputs": [
    {
     "name": "stderr",
     "output_type": "stream",
     "text": [
      "/var/folders/77/y6gtmx8d687_4xqlf5hz3z7r0000gn/T/ipykernel_31254/748136152.py:4: SettingWithCopyWarning: \n",
      "A value is trying to be set on a copy of a slice from a DataFrame.\n",
      "Try using .loc[row_indexer,col_indexer] = value instead\n",
      "\n",
      "See the caveats in the documentation: https://pandas.pydata.org/pandas-docs/stable/user_guide/indexing.html#returning-a-view-versus-a-copy\n",
      "  df['label2'] = df['label']\n",
      "/var/folders/77/y6gtmx8d687_4xqlf5hz3z7r0000gn/T/ipykernel_31254/748136152.py:6: SettingWithCopyWarning: \n",
      "A value is trying to be set on a copy of a slice from a DataFrame.\n",
      "Try using .loc[row_indexer,col_indexer] = value instead\n",
      "\n",
      "See the caveats in the documentation: https://pandas.pydata.org/pandas-docs/stable/user_guide/indexing.html#returning-a-view-versus-a-copy\n",
      "  df['label2'] = df['label2'].map(map_dictionary)\n"
     ]
    },
    {
     "data": {
      "text/html": [
       "<div>\n",
       "<style scoped>\n",
       "    .dataframe tbody tr th:only-of-type {\n",
       "        vertical-align: middle;\n",
       "    }\n",
       "\n",
       "    .dataframe tbody tr th {\n",
       "        vertical-align: top;\n",
       "    }\n",
       "\n",
       "    .dataframe thead th {\n",
       "        text-align: right;\n",
       "    }\n",
       "</style>\n",
       "<table border=\"1\" class=\"dataframe\">\n",
       "  <thead>\n",
       "    <tr style=\"text-align: right;\">\n",
       "      <th></th>\n",
       "      <th>ID</th>\n",
       "      <th>label</th>\n",
       "      <th>sessions</th>\n",
       "      <th>drives</th>\n",
       "      <th>total_sessions</th>\n",
       "      <th>n_days_after_onboarding</th>\n",
       "      <th>total_navigations_fav1</th>\n",
       "      <th>total_navigations_fav2</th>\n",
       "      <th>driven_km_drives</th>\n",
       "      <th>duration_minutes_drives</th>\n",
       "      <th>activity_days</th>\n",
       "      <th>driving_days</th>\n",
       "      <th>device</th>\n",
       "      <th>km_per_driving_day</th>\n",
       "      <th>percent_sessions_in_last_month</th>\n",
       "      <th>professional_driver</th>\n",
       "      <th>total_sessions_per_day</th>\n",
       "      <th>km_per_hour</th>\n",
       "      <th>km_per_drive</th>\n",
       "      <th>percent_of_sessions_to_favorite</th>\n",
       "      <th>device2</th>\n",
       "      <th>label2</th>\n",
       "    </tr>\n",
       "  </thead>\n",
       "  <tbody>\n",
       "    <tr>\n",
       "      <th>0</th>\n",
       "      <td>0</td>\n",
       "      <td>retained</td>\n",
       "      <td>283</td>\n",
       "      <td>226</td>\n",
       "      <td>296.748273</td>\n",
       "      <td>2276</td>\n",
       "      <td>208</td>\n",
       "      <td>0</td>\n",
       "      <td>2628.845068</td>\n",
       "      <td>1985.775061</td>\n",
       "      <td>28</td>\n",
       "      <td>19</td>\n",
       "      <td>Android</td>\n",
       "      <td>138.360267</td>\n",
       "      <td>0.953670</td>\n",
       "      <td>1</td>\n",
       "      <td>0.130381</td>\n",
       "      <td>79.430298</td>\n",
       "      <td>11.632058</td>\n",
       "      <td>0.700931</td>\n",
       "      <td>0</td>\n",
       "      <td>0</td>\n",
       "    </tr>\n",
       "    <tr>\n",
       "      <th>1</th>\n",
       "      <td>1</td>\n",
       "      <td>retained</td>\n",
       "      <td>133</td>\n",
       "      <td>107</td>\n",
       "      <td>326.896596</td>\n",
       "      <td>1225</td>\n",
       "      <td>19</td>\n",
       "      <td>64</td>\n",
       "      <td>13715.920550</td>\n",
       "      <td>3160.472914</td>\n",
       "      <td>13</td>\n",
       "      <td>11</td>\n",
       "      <td>iPhone</td>\n",
       "      <td>1246.901868</td>\n",
       "      <td>0.406856</td>\n",
       "      <td>0</td>\n",
       "      <td>0.266854</td>\n",
       "      <td>260.389902</td>\n",
       "      <td>128.186173</td>\n",
       "      <td>0.253903</td>\n",
       "      <td>1</td>\n",
       "      <td>0</td>\n",
       "    </tr>\n",
       "    <tr>\n",
       "      <th>2</th>\n",
       "      <td>2</td>\n",
       "      <td>retained</td>\n",
       "      <td>114</td>\n",
       "      <td>95</td>\n",
       "      <td>135.522926</td>\n",
       "      <td>2651</td>\n",
       "      <td>0</td>\n",
       "      <td>0</td>\n",
       "      <td>3059.148818</td>\n",
       "      <td>1610.735904</td>\n",
       "      <td>14</td>\n",
       "      <td>8</td>\n",
       "      <td>Android</td>\n",
       "      <td>382.393602</td>\n",
       "      <td>0.841186</td>\n",
       "      <td>0</td>\n",
       "      <td>0.051121</td>\n",
       "      <td>113.953460</td>\n",
       "      <td>32.201567</td>\n",
       "      <td>0.000000</td>\n",
       "      <td>0</td>\n",
       "      <td>0</td>\n",
       "    </tr>\n",
       "    <tr>\n",
       "      <th>3</th>\n",
       "      <td>3</td>\n",
       "      <td>retained</td>\n",
       "      <td>49</td>\n",
       "      <td>40</td>\n",
       "      <td>67.589221</td>\n",
       "      <td>15</td>\n",
       "      <td>322</td>\n",
       "      <td>7</td>\n",
       "      <td>913.591123</td>\n",
       "      <td>587.196542</td>\n",
       "      <td>7</td>\n",
       "      <td>3</td>\n",
       "      <td>iPhone</td>\n",
       "      <td>304.530374</td>\n",
       "      <td>0.724968</td>\n",
       "      <td>0</td>\n",
       "      <td>4.505948</td>\n",
       "      <td>93.351141</td>\n",
       "      <td>22.839778</td>\n",
       "      <td>4.867640</td>\n",
       "      <td>1</td>\n",
       "      <td>0</td>\n",
       "    </tr>\n",
       "    <tr>\n",
       "      <th>4</th>\n",
       "      <td>4</td>\n",
       "      <td>retained</td>\n",
       "      <td>84</td>\n",
       "      <td>68</td>\n",
       "      <td>168.247020</td>\n",
       "      <td>1562</td>\n",
       "      <td>166</td>\n",
       "      <td>5</td>\n",
       "      <td>3950.202008</td>\n",
       "      <td>1219.555924</td>\n",
       "      <td>27</td>\n",
       "      <td>18</td>\n",
       "      <td>Android</td>\n",
       "      <td>219.455667</td>\n",
       "      <td>0.499266</td>\n",
       "      <td>1</td>\n",
       "      <td>0.107713</td>\n",
       "      <td>194.342970</td>\n",
       "      <td>58.091206</td>\n",
       "      <td>1.016363</td>\n",
       "      <td>0</td>\n",
       "      <td>0</td>\n",
       "    </tr>\n",
       "    <tr>\n",
       "      <th>...</th>\n",
       "      <td>...</td>\n",
       "      <td>...</td>\n",
       "      <td>...</td>\n",
       "      <td>...</td>\n",
       "      <td>...</td>\n",
       "      <td>...</td>\n",
       "      <td>...</td>\n",
       "      <td>...</td>\n",
       "      <td>...</td>\n",
       "      <td>...</td>\n",
       "      <td>...</td>\n",
       "      <td>...</td>\n",
       "      <td>...</td>\n",
       "      <td>...</td>\n",
       "      <td>...</td>\n",
       "      <td>...</td>\n",
       "      <td>...</td>\n",
       "      <td>...</td>\n",
       "      <td>...</td>\n",
       "      <td>...</td>\n",
       "      <td>...</td>\n",
       "      <td>...</td>\n",
       "    </tr>\n",
       "    <tr>\n",
       "      <th>14994</th>\n",
       "      <td>14994</td>\n",
       "      <td>retained</td>\n",
       "      <td>60</td>\n",
       "      <td>55</td>\n",
       "      <td>207.875622</td>\n",
       "      <td>140</td>\n",
       "      <td>317</td>\n",
       "      <td>0</td>\n",
       "      <td>2890.496901</td>\n",
       "      <td>2186.155708</td>\n",
       "      <td>25</td>\n",
       "      <td>17</td>\n",
       "      <td>iPhone</td>\n",
       "      <td>170.029229</td>\n",
       "      <td>0.288634</td>\n",
       "      <td>0</td>\n",
       "      <td>1.484826</td>\n",
       "      <td>79.330952</td>\n",
       "      <td>52.554489</td>\n",
       "      <td>1.524950</td>\n",
       "      <td>1</td>\n",
       "      <td>0</td>\n",
       "    </tr>\n",
       "    <tr>\n",
       "      <th>14995</th>\n",
       "      <td>14995</td>\n",
       "      <td>retained</td>\n",
       "      <td>42</td>\n",
       "      <td>35</td>\n",
       "      <td>187.670313</td>\n",
       "      <td>2505</td>\n",
       "      <td>15</td>\n",
       "      <td>10</td>\n",
       "      <td>4062.575194</td>\n",
       "      <td>1208.583193</td>\n",
       "      <td>25</td>\n",
       "      <td>20</td>\n",
       "      <td>Android</td>\n",
       "      <td>203.128760</td>\n",
       "      <td>0.223797</td>\n",
       "      <td>0</td>\n",
       "      <td>0.074918</td>\n",
       "      <td>201.686167</td>\n",
       "      <td>116.073577</td>\n",
       "      <td>0.133212</td>\n",
       "      <td>0</td>\n",
       "      <td>0</td>\n",
       "    </tr>\n",
       "    <tr>\n",
       "      <th>14996</th>\n",
       "      <td>14996</td>\n",
       "      <td>retained</td>\n",
       "      <td>273</td>\n",
       "      <td>219</td>\n",
       "      <td>422.017241</td>\n",
       "      <td>1873</td>\n",
       "      <td>17</td>\n",
       "      <td>0</td>\n",
       "      <td>3097.825028</td>\n",
       "      <td>1031.278706</td>\n",
       "      <td>18</td>\n",
       "      <td>17</td>\n",
       "      <td>iPhone</td>\n",
       "      <td>182.225002</td>\n",
       "      <td>0.646893</td>\n",
       "      <td>1</td>\n",
       "      <td>0.225316</td>\n",
       "      <td>180.232076</td>\n",
       "      <td>14.145320</td>\n",
       "      <td>0.040283</td>\n",
       "      <td>1</td>\n",
       "      <td>0</td>\n",
       "    </tr>\n",
       "    <tr>\n",
       "      <th>14997</th>\n",
       "      <td>14997</td>\n",
       "      <td>churned</td>\n",
       "      <td>149</td>\n",
       "      <td>120</td>\n",
       "      <td>180.524184</td>\n",
       "      <td>3150</td>\n",
       "      <td>45</td>\n",
       "      <td>0</td>\n",
       "      <td>4051.758549</td>\n",
       "      <td>254.187763</td>\n",
       "      <td>6</td>\n",
       "      <td>6</td>\n",
       "      <td>iPhone</td>\n",
       "      <td>675.293092</td>\n",
       "      <td>0.825374</td>\n",
       "      <td>0</td>\n",
       "      <td>0.057309</td>\n",
       "      <td>956.401322</td>\n",
       "      <td>33.764655</td>\n",
       "      <td>0.249274</td>\n",
       "      <td>1</td>\n",
       "      <td>1</td>\n",
       "    </tr>\n",
       "    <tr>\n",
       "      <th>14998</th>\n",
       "      <td>14998</td>\n",
       "      <td>retained</td>\n",
       "      <td>73</td>\n",
       "      <td>58</td>\n",
       "      <td>353.419797</td>\n",
       "      <td>3383</td>\n",
       "      <td>13</td>\n",
       "      <td>51</td>\n",
       "      <td>6030.498773</td>\n",
       "      <td>3042.436423</td>\n",
       "      <td>14</td>\n",
       "      <td>13</td>\n",
       "      <td>iPhone</td>\n",
       "      <td>463.884521</td>\n",
       "      <td>0.206553</td>\n",
       "      <td>0</td>\n",
       "      <td>0.104469</td>\n",
       "      <td>118.927687</td>\n",
       "      <td>103.974117</td>\n",
       "      <td>0.181088</td>\n",
       "      <td>1</td>\n",
       "      <td>0</td>\n",
       "    </tr>\n",
       "  </tbody>\n",
       "</table>\n",
       "<p>14299 rows × 22 columns</p>\n",
       "</div>"
      ],
      "text/plain": [
       "          ID     label  sessions  drives  total_sessions  \\\n",
       "0          0  retained       283     226      296.748273   \n",
       "1          1  retained       133     107      326.896596   \n",
       "2          2  retained       114      95      135.522926   \n",
       "3          3  retained        49      40       67.589221   \n",
       "4          4  retained        84      68      168.247020   \n",
       "...      ...       ...       ...     ...             ...   \n",
       "14994  14994  retained        60      55      207.875622   \n",
       "14995  14995  retained        42      35      187.670313   \n",
       "14996  14996  retained       273     219      422.017241   \n",
       "14997  14997   churned       149     120      180.524184   \n",
       "14998  14998  retained        73      58      353.419797   \n",
       "\n",
       "       n_days_after_onboarding  total_navigations_fav1  \\\n",
       "0                         2276                     208   \n",
       "1                         1225                      19   \n",
       "2                         2651                       0   \n",
       "3                           15                     322   \n",
       "4                         1562                     166   \n",
       "...                        ...                     ...   \n",
       "14994                      140                     317   \n",
       "14995                     2505                      15   \n",
       "14996                     1873                      17   \n",
       "14997                     3150                      45   \n",
       "14998                     3383                      13   \n",
       "\n",
       "       total_navigations_fav2  driven_km_drives  duration_minutes_drives  \\\n",
       "0                           0       2628.845068              1985.775061   \n",
       "1                          64      13715.920550              3160.472914   \n",
       "2                           0       3059.148818              1610.735904   \n",
       "3                           7        913.591123               587.196542   \n",
       "4                           5       3950.202008              1219.555924   \n",
       "...                       ...               ...                      ...   \n",
       "14994                       0       2890.496901              2186.155708   \n",
       "14995                      10       4062.575194              1208.583193   \n",
       "14996                       0       3097.825028              1031.278706   \n",
       "14997                       0       4051.758549               254.187763   \n",
       "14998                      51       6030.498773              3042.436423   \n",
       "\n",
       "       activity_days  driving_days   device  km_per_driving_day  \\\n",
       "0                 28            19  Android          138.360267   \n",
       "1                 13            11   iPhone         1246.901868   \n",
       "2                 14             8  Android          382.393602   \n",
       "3                  7             3   iPhone          304.530374   \n",
       "4                 27            18  Android          219.455667   \n",
       "...              ...           ...      ...                 ...   \n",
       "14994             25            17   iPhone          170.029229   \n",
       "14995             25            20  Android          203.128760   \n",
       "14996             18            17   iPhone          182.225002   \n",
       "14997              6             6   iPhone          675.293092   \n",
       "14998             14            13   iPhone          463.884521   \n",
       "\n",
       "       percent_sessions_in_last_month  professional_driver  \\\n",
       "0                            0.953670                    1   \n",
       "1                            0.406856                    0   \n",
       "2                            0.841186                    0   \n",
       "3                            0.724968                    0   \n",
       "4                            0.499266                    1   \n",
       "...                               ...                  ...   \n",
       "14994                        0.288634                    0   \n",
       "14995                        0.223797                    0   \n",
       "14996                        0.646893                    1   \n",
       "14997                        0.825374                    0   \n",
       "14998                        0.206553                    0   \n",
       "\n",
       "       total_sessions_per_day  km_per_hour  km_per_drive  \\\n",
       "0                    0.130381    79.430298     11.632058   \n",
       "1                    0.266854   260.389902    128.186173   \n",
       "2                    0.051121   113.953460     32.201567   \n",
       "3                    4.505948    93.351141     22.839778   \n",
       "4                    0.107713   194.342970     58.091206   \n",
       "...                       ...          ...           ...   \n",
       "14994                1.484826    79.330952     52.554489   \n",
       "14995                0.074918   201.686167    116.073577   \n",
       "14996                0.225316   180.232076     14.145320   \n",
       "14997                0.057309   956.401322     33.764655   \n",
       "14998                0.104469   118.927687    103.974117   \n",
       "\n",
       "       percent_of_sessions_to_favorite  device2  label2  \n",
       "0                             0.700931        0       0  \n",
       "1                             0.253903        1       0  \n",
       "2                             0.000000        0       0  \n",
       "3                             4.867640        1       0  \n",
       "4                             1.016363        0       0  \n",
       "...                                ...      ...     ...  \n",
       "14994                         1.524950        1       0  \n",
       "14995                         0.133212        0       0  \n",
       "14996                         0.040283        1       0  \n",
       "14997                         0.249274        1       1  \n",
       "14998                         0.181088        1       0  \n",
       "\n",
       "[14299 rows x 22 columns]"
      ]
     },
     "execution_count": 21,
     "metadata": {},
     "output_type": "execute_result"
    }
   ],
   "source": [
    "# Create binary `label2` column\n",
    "map_dictionary = {'churned': 1, 'retained': 0}\n",
    "\n",
    "df['label2'] = df['label']\n",
    "\n",
    "df['label2'] = df['label2'].map(map_dictionary)\n",
    "df"
   ]
  },
  {
   "cell_type": "markdown",
   "metadata": {
    "id": "fD_zG59eaV2c"
   },
   "source": [
    "### **Task 6. Feature selection**\n",
    "\n",
    "Tree-based models can handle multicollinearity, so the only feature that can be cut is `ID`, since it doesn't contain any information relevant to churn.\n",
    "\n",
    "Note, however, that `device` won't be used simply because it's a copy of `device2`.\n",
    "\n",
    "Drop `ID` from the `df` dataframe."
   ]
  },
  {
   "cell_type": "code",
   "execution_count": 22,
   "metadata": {
    "id": "kf3uGtUQaWSL"
   },
   "outputs": [],
   "source": [
    "# Drop `ID` column\n",
    "df = df.drop(columns = ['ID'])"
   ]
  },
  {
   "cell_type": "code",
   "execution_count": 23,
   "metadata": {},
   "outputs": [
    {
     "data": {
      "text/html": [
       "<div>\n",
       "<style scoped>\n",
       "    .dataframe tbody tr th:only-of-type {\n",
       "        vertical-align: middle;\n",
       "    }\n",
       "\n",
       "    .dataframe tbody tr th {\n",
       "        vertical-align: top;\n",
       "    }\n",
       "\n",
       "    .dataframe thead th {\n",
       "        text-align: right;\n",
       "    }\n",
       "</style>\n",
       "<table border=\"1\" class=\"dataframe\">\n",
       "  <thead>\n",
       "    <tr style=\"text-align: right;\">\n",
       "      <th></th>\n",
       "      <th>label</th>\n",
       "      <th>sessions</th>\n",
       "      <th>drives</th>\n",
       "      <th>total_sessions</th>\n",
       "      <th>n_days_after_onboarding</th>\n",
       "      <th>total_navigations_fav1</th>\n",
       "      <th>total_navigations_fav2</th>\n",
       "      <th>driven_km_drives</th>\n",
       "      <th>duration_minutes_drives</th>\n",
       "      <th>activity_days</th>\n",
       "      <th>driving_days</th>\n",
       "      <th>device</th>\n",
       "      <th>km_per_driving_day</th>\n",
       "      <th>percent_sessions_in_last_month</th>\n",
       "      <th>professional_driver</th>\n",
       "      <th>total_sessions_per_day</th>\n",
       "      <th>km_per_hour</th>\n",
       "      <th>km_per_drive</th>\n",
       "      <th>percent_of_sessions_to_favorite</th>\n",
       "      <th>device2</th>\n",
       "      <th>label2</th>\n",
       "    </tr>\n",
       "  </thead>\n",
       "  <tbody>\n",
       "    <tr>\n",
       "      <th>0</th>\n",
       "      <td>retained</td>\n",
       "      <td>283</td>\n",
       "      <td>226</td>\n",
       "      <td>296.748273</td>\n",
       "      <td>2276</td>\n",
       "      <td>208</td>\n",
       "      <td>0</td>\n",
       "      <td>2628.845068</td>\n",
       "      <td>1985.775061</td>\n",
       "      <td>28</td>\n",
       "      <td>19</td>\n",
       "      <td>Android</td>\n",
       "      <td>138.360267</td>\n",
       "      <td>0.953670</td>\n",
       "      <td>1</td>\n",
       "      <td>0.130381</td>\n",
       "      <td>79.430298</td>\n",
       "      <td>11.632058</td>\n",
       "      <td>0.700931</td>\n",
       "      <td>0</td>\n",
       "      <td>0</td>\n",
       "    </tr>\n",
       "    <tr>\n",
       "      <th>1</th>\n",
       "      <td>retained</td>\n",
       "      <td>133</td>\n",
       "      <td>107</td>\n",
       "      <td>326.896596</td>\n",
       "      <td>1225</td>\n",
       "      <td>19</td>\n",
       "      <td>64</td>\n",
       "      <td>13715.920550</td>\n",
       "      <td>3160.472914</td>\n",
       "      <td>13</td>\n",
       "      <td>11</td>\n",
       "      <td>iPhone</td>\n",
       "      <td>1246.901868</td>\n",
       "      <td>0.406856</td>\n",
       "      <td>0</td>\n",
       "      <td>0.266854</td>\n",
       "      <td>260.389902</td>\n",
       "      <td>128.186173</td>\n",
       "      <td>0.253903</td>\n",
       "      <td>1</td>\n",
       "      <td>0</td>\n",
       "    </tr>\n",
       "    <tr>\n",
       "      <th>2</th>\n",
       "      <td>retained</td>\n",
       "      <td>114</td>\n",
       "      <td>95</td>\n",
       "      <td>135.522926</td>\n",
       "      <td>2651</td>\n",
       "      <td>0</td>\n",
       "      <td>0</td>\n",
       "      <td>3059.148818</td>\n",
       "      <td>1610.735904</td>\n",
       "      <td>14</td>\n",
       "      <td>8</td>\n",
       "      <td>Android</td>\n",
       "      <td>382.393602</td>\n",
       "      <td>0.841186</td>\n",
       "      <td>0</td>\n",
       "      <td>0.051121</td>\n",
       "      <td>113.953460</td>\n",
       "      <td>32.201567</td>\n",
       "      <td>0.000000</td>\n",
       "      <td>0</td>\n",
       "      <td>0</td>\n",
       "    </tr>\n",
       "    <tr>\n",
       "      <th>3</th>\n",
       "      <td>retained</td>\n",
       "      <td>49</td>\n",
       "      <td>40</td>\n",
       "      <td>67.589221</td>\n",
       "      <td>15</td>\n",
       "      <td>322</td>\n",
       "      <td>7</td>\n",
       "      <td>913.591123</td>\n",
       "      <td>587.196542</td>\n",
       "      <td>7</td>\n",
       "      <td>3</td>\n",
       "      <td>iPhone</td>\n",
       "      <td>304.530374</td>\n",
       "      <td>0.724968</td>\n",
       "      <td>0</td>\n",
       "      <td>4.505948</td>\n",
       "      <td>93.351141</td>\n",
       "      <td>22.839778</td>\n",
       "      <td>4.867640</td>\n",
       "      <td>1</td>\n",
       "      <td>0</td>\n",
       "    </tr>\n",
       "    <tr>\n",
       "      <th>4</th>\n",
       "      <td>retained</td>\n",
       "      <td>84</td>\n",
       "      <td>68</td>\n",
       "      <td>168.247020</td>\n",
       "      <td>1562</td>\n",
       "      <td>166</td>\n",
       "      <td>5</td>\n",
       "      <td>3950.202008</td>\n",
       "      <td>1219.555924</td>\n",
       "      <td>27</td>\n",
       "      <td>18</td>\n",
       "      <td>Android</td>\n",
       "      <td>219.455667</td>\n",
       "      <td>0.499266</td>\n",
       "      <td>1</td>\n",
       "      <td>0.107713</td>\n",
       "      <td>194.342970</td>\n",
       "      <td>58.091206</td>\n",
       "      <td>1.016363</td>\n",
       "      <td>0</td>\n",
       "      <td>0</td>\n",
       "    </tr>\n",
       "  </tbody>\n",
       "</table>\n",
       "</div>"
      ],
      "text/plain": [
       "      label  sessions  drives  total_sessions  n_days_after_onboarding  \\\n",
       "0  retained       283     226      296.748273                     2276   \n",
       "1  retained       133     107      326.896596                     1225   \n",
       "2  retained       114      95      135.522926                     2651   \n",
       "3  retained        49      40       67.589221                       15   \n",
       "4  retained        84      68      168.247020                     1562   \n",
       "\n",
       "   total_navigations_fav1  total_navigations_fav2  driven_km_drives  \\\n",
       "0                     208                       0       2628.845068   \n",
       "1                      19                      64      13715.920550   \n",
       "2                       0                       0       3059.148818   \n",
       "3                     322                       7        913.591123   \n",
       "4                     166                       5       3950.202008   \n",
       "\n",
       "   duration_minutes_drives  activity_days  driving_days   device  \\\n",
       "0              1985.775061             28            19  Android   \n",
       "1              3160.472914             13            11   iPhone   \n",
       "2              1610.735904             14             8  Android   \n",
       "3               587.196542              7             3   iPhone   \n",
       "4              1219.555924             27            18  Android   \n",
       "\n",
       "   km_per_driving_day  percent_sessions_in_last_month  professional_driver  \\\n",
       "0          138.360267                        0.953670                    1   \n",
       "1         1246.901868                        0.406856                    0   \n",
       "2          382.393602                        0.841186                    0   \n",
       "3          304.530374                        0.724968                    0   \n",
       "4          219.455667                        0.499266                    1   \n",
       "\n",
       "   total_sessions_per_day  km_per_hour  km_per_drive  \\\n",
       "0                0.130381    79.430298     11.632058   \n",
       "1                0.266854   260.389902    128.186173   \n",
       "2                0.051121   113.953460     32.201567   \n",
       "3                4.505948    93.351141     22.839778   \n",
       "4                0.107713   194.342970     58.091206   \n",
       "\n",
       "   percent_of_sessions_to_favorite  device2  label2  \n",
       "0                         0.700931        0       0  \n",
       "1                         0.253903        1       0  \n",
       "2                         0.000000        0       0  \n",
       "3                         4.867640        1       0  \n",
       "4                         1.016363        0       0  "
      ]
     },
     "execution_count": 23,
     "metadata": {},
     "output_type": "execute_result"
    }
   ],
   "source": [
    "df.head()"
   ]
  },
  {
   "cell_type": "markdown",
   "metadata": {
    "id": "ajj50RCCaXrF"
   },
   "source": [
    "### **Task 7. Evaluation metric**\n",
    "\n",
    "Before modeling, you must decide on an evaluation metric. This will depend on the class balance of the target variable and the use case of the model.\n",
    "\n",
    "First, examine the class balance of your target variable."
   ]
  },
  {
   "cell_type": "code",
   "execution_count": 25,
   "metadata": {
    "id": "3JkjEYByaYbr"
   },
   "outputs": [
    {
     "data": {
      "text/plain": [
       "retained    0.822645\n",
       "churned     0.177355\n",
       "Name: label, dtype: float64"
      ]
     },
     "execution_count": 25,
     "metadata": {},
     "output_type": "execute_result"
    }
   ],
   "source": [
    "# Get class balance of 'label' col\n",
    "df['label'].value_counts(normalize=True)"
   ]
  },
  {
   "cell_type": "markdown",
   "metadata": {
    "id": "w9vnV1wtaZWJ"
   },
   "source": [
    "Approximately 18% of the users in this dataset churned. This is an unbalanced dataset, but not extremely so. It can be modeled without any class rebalancing.\n",
    "\n",
    "Now, consider which evaluation metric is best. Remember, accuracy might not be the best gauge of performance because a model can have high accuracy on an imbalanced dataset and still fail to predict the minority class.\n",
    "\n",
    "It was already determined that the risks involved in making a false positive prediction are minimal. No one stands to get hurt, lose money, or suffer any other significant consequence if they are predicted to churn. Therefore, select the model based on the recall score."
   ]
  },
  {
   "cell_type": "markdown",
   "metadata": {
    "id": "3n1eikFh8akS"
   },
   "source": [
    "<img src=\"images/Construct.png\" width=\"100\" height=\"100\" align=left>\n",
    "\n",
    "## **PACE: Construct**\n",
    "Consider the questions in your PACE Strategy Document to reflect on the Construct stage."
   ]
  },
  {
   "cell_type": "markdown",
   "metadata": {
    "id": "G5jzGjOS8iiv"
   },
   "source": [
    "### **Task 8. Modeling workflow and model selection process**\n",
    "\n",
    "The final modeling dataset contains 14,299 samples. This is towards the lower end of what might be considered sufficient to conduct a robust model selection process, but still doable.\n",
    "\n",
    "1. Split the data into train/validation/test sets (60/20/20)\n",
    "\n",
    "Note that, when deciding the split ratio and whether or not to use a validation set to select a champion model, consider both how many samples will be in each data partition, and how many examples of the minority class each would therefore contain. In this case, a 60/20/20 split would result in \\~2,860 samples in the validation set and the same number in the test set, of which \\~18%&mdash;or 515 samples&mdash;would represent users who churn.\n",
    "2. Fit models and tune hyperparameters on the training set\n",
    "3. Perform final model selection on the validation set\n",
    "4. Assess the champion model's performance on the test set\n",
    "\n",
    "![](https://raw.githubusercontent.com/adacert/tiktok/main/optimal_model_flow_numbered.svg)"
   ]
  },
  {
   "cell_type": "markdown",
   "metadata": {
    "id": "Nx41bVxX89Fe"
   },
   "source": [
    "### **Task 9. Split the data**\n",
    "\n",
    "Now you're ready to model. The only remaining step is to split the data into features/target variable and training/validation/test sets.\n",
    "\n",
    "1. Define a variable `X` that isolates the features. Remember not to use `device`.\n",
    "\n",
    "2. Define a variable `y` that isolates the target variable (`label2`).\n",
    "\n",
    "3. Split the data 80/20 into an interim training set and a test set. Don't forget to stratify the splits, and set the random state to 42.\n",
    "\n",
    "4. Split the interim training set 75/25 into a training set and a validation set, yielding a final ratio of 60/20/20 for training/validation/test sets. Again, don't forget to stratify the splits and set the random state."
   ]
  },
  {
   "cell_type": "code",
   "execution_count": 117,
   "metadata": {
    "id": "qLbapbSWDUL-"
   },
   "outputs": [],
   "source": [
    "# 1. Isolate X variables\n",
    "X = df.drop(columns = ['device','label','label2'])\n",
    "\n",
    "# 2. Isolate y variable\n",
    "y = df['label2']\n",
    "\n",
    "# 3. Split into train and test sets\n",
    "X_train_temp, X_test, y_train_temp, y_test = train_test_split(X, y, \n",
    "                                                    test_size=0.2, stratify=y, \n",
    "                                                    random_state=42)\n",
    "\n",
    "# 4. Split into train and validate sets\n",
    "X_train, X_val, y_train, y_val = train_test_split(X_train_temp, y_train_temp, \n",
    "                                                    test_size=0.25, stratify=y_train_temp, \n",
    "                                                    random_state=42)"
   ]
  },
  {
   "cell_type": "code",
   "execution_count": 42,
   "metadata": {},
   "outputs": [
    {
     "data": {
      "text/html": [
       "<div>\n",
       "<style scoped>\n",
       "    .dataframe tbody tr th:only-of-type {\n",
       "        vertical-align: middle;\n",
       "    }\n",
       "\n",
       "    .dataframe tbody tr th {\n",
       "        vertical-align: top;\n",
       "    }\n",
       "\n",
       "    .dataframe thead th {\n",
       "        text-align: right;\n",
       "    }\n",
       "</style>\n",
       "<table border=\"1\" class=\"dataframe\">\n",
       "  <thead>\n",
       "    <tr style=\"text-align: right;\">\n",
       "      <th></th>\n",
       "      <th>sessions</th>\n",
       "      <th>drives</th>\n",
       "      <th>total_sessions</th>\n",
       "      <th>n_days_after_onboarding</th>\n",
       "      <th>total_navigations_fav1</th>\n",
       "      <th>total_navigations_fav2</th>\n",
       "      <th>driven_km_drives</th>\n",
       "      <th>duration_minutes_drives</th>\n",
       "      <th>activity_days</th>\n",
       "      <th>driving_days</th>\n",
       "      <th>km_per_driving_day</th>\n",
       "      <th>percent_sessions_in_last_month</th>\n",
       "      <th>professional_driver</th>\n",
       "      <th>total_sessions_per_day</th>\n",
       "      <th>km_per_hour</th>\n",
       "      <th>km_per_drive</th>\n",
       "      <th>percent_of_sessions_to_favorite</th>\n",
       "      <th>device2</th>\n",
       "    </tr>\n",
       "  </thead>\n",
       "  <tbody>\n",
       "    <tr>\n",
       "      <th>627</th>\n",
       "      <td>354</td>\n",
       "      <td>334</td>\n",
       "      <td>387.952131</td>\n",
       "      <td>1702</td>\n",
       "      <td>102</td>\n",
       "      <td>69</td>\n",
       "      <td>2675.597422</td>\n",
       "      <td>1769.200501</td>\n",
       "      <td>19</td>\n",
       "      <td>18</td>\n",
       "      <td>148.644301</td>\n",
       "      <td>0.912484</td>\n",
       "      <td>1</td>\n",
       "      <td>0.227939</td>\n",
       "      <td>90.739204</td>\n",
       "      <td>8.010771</td>\n",
       "      <td>0.440776</td>\n",
       "      <td>1</td>\n",
       "    </tr>\n",
       "    <tr>\n",
       "      <th>8588</th>\n",
       "      <td>61</td>\n",
       "      <td>49</td>\n",
       "      <td>186.438384</td>\n",
       "      <td>3435</td>\n",
       "      <td>29</td>\n",
       "      <td>37</td>\n",
       "      <td>2983.491114</td>\n",
       "      <td>1876.611394</td>\n",
       "      <td>27</td>\n",
       "      <td>23</td>\n",
       "      <td>129.717005</td>\n",
       "      <td>0.327186</td>\n",
       "      <td>0</td>\n",
       "      <td>0.054276</td>\n",
       "      <td>95.389737</td>\n",
       "      <td>60.887574</td>\n",
       "      <td>0.354004</td>\n",
       "      <td>0</td>\n",
       "    </tr>\n",
       "    <tr>\n",
       "      <th>3202</th>\n",
       "      <td>199</td>\n",
       "      <td>160</td>\n",
       "      <td>326.029353</td>\n",
       "      <td>1145</td>\n",
       "      <td>0</td>\n",
       "      <td>0</td>\n",
       "      <td>3723.097732</td>\n",
       "      <td>2225.499258</td>\n",
       "      <td>8</td>\n",
       "      <td>8</td>\n",
       "      <td>465.387217</td>\n",
       "      <td>0.610374</td>\n",
       "      <td>0</td>\n",
       "      <td>0.284742</td>\n",
       "      <td>100.375618</td>\n",
       "      <td>23.269361</td>\n",
       "      <td>0.000000</td>\n",
       "      <td>1</td>\n",
       "    </tr>\n",
       "    <tr>\n",
       "      <th>12449</th>\n",
       "      <td>21</td>\n",
       "      <td>21</td>\n",
       "      <td>57.436499</td>\n",
       "      <td>2808</td>\n",
       "      <td>0</td>\n",
       "      <td>1</td>\n",
       "      <td>1622.526652</td>\n",
       "      <td>432.967910</td>\n",
       "      <td>22</td>\n",
       "      <td>15</td>\n",
       "      <td>108.168443</td>\n",
       "      <td>0.365621</td>\n",
       "      <td>0</td>\n",
       "      <td>0.020455</td>\n",
       "      <td>224.847147</td>\n",
       "      <td>77.263174</td>\n",
       "      <td>0.017411</td>\n",
       "      <td>1</td>\n",
       "    </tr>\n",
       "    <tr>\n",
       "      <th>7185</th>\n",
       "      <td>105</td>\n",
       "      <td>105</td>\n",
       "      <td>144.822673</td>\n",
       "      <td>3030</td>\n",
       "      <td>17</td>\n",
       "      <td>84</td>\n",
       "      <td>10559.209360</td>\n",
       "      <td>5463.480168</td>\n",
       "      <td>31</td>\n",
       "      <td>30</td>\n",
       "      <td>351.973645</td>\n",
       "      <td>0.725025</td>\n",
       "      <td>1</td>\n",
       "      <td>0.047796</td>\n",
       "      <td>115.961355</td>\n",
       "      <td>100.563899</td>\n",
       "      <td>0.697405</td>\n",
       "      <td>1</td>\n",
       "    </tr>\n",
       "    <tr>\n",
       "      <th>...</th>\n",
       "      <td>...</td>\n",
       "      <td>...</td>\n",
       "      <td>...</td>\n",
       "      <td>...</td>\n",
       "      <td>...</td>\n",
       "      <td>...</td>\n",
       "      <td>...</td>\n",
       "      <td>...</td>\n",
       "      <td>...</td>\n",
       "      <td>...</td>\n",
       "      <td>...</td>\n",
       "      <td>...</td>\n",
       "      <td>...</td>\n",
       "      <td>...</td>\n",
       "      <td>...</td>\n",
       "      <td>...</td>\n",
       "      <td>...</td>\n",
       "      <td>...</td>\n",
       "    </tr>\n",
       "    <tr>\n",
       "      <th>7497</th>\n",
       "      <td>19</td>\n",
       "      <td>19</td>\n",
       "      <td>73.947036</td>\n",
       "      <td>1622</td>\n",
       "      <td>0</td>\n",
       "      <td>48</td>\n",
       "      <td>1347.781426</td>\n",
       "      <td>898.722357</td>\n",
       "      <td>4</td>\n",
       "      <td>4</td>\n",
       "      <td>336.945357</td>\n",
       "      <td>0.256941</td>\n",
       "      <td>0</td>\n",
       "      <td>0.045590</td>\n",
       "      <td>89.979831</td>\n",
       "      <td>70.935865</td>\n",
       "      <td>0.649113</td>\n",
       "      <td>1</td>\n",
       "    </tr>\n",
       "    <tr>\n",
       "      <th>5305</th>\n",
       "      <td>15</td>\n",
       "      <td>15</td>\n",
       "      <td>29.705603</td>\n",
       "      <td>85</td>\n",
       "      <td>61</td>\n",
       "      <td>41</td>\n",
       "      <td>629.386062</td>\n",
       "      <td>476.107096</td>\n",
       "      <td>18</td>\n",
       "      <td>12</td>\n",
       "      <td>52.448838</td>\n",
       "      <td>0.504955</td>\n",
       "      <td>0</td>\n",
       "      <td>0.349478</td>\n",
       "      <td>79.316532</td>\n",
       "      <td>41.959071</td>\n",
       "      <td>3.433696</td>\n",
       "      <td>1</td>\n",
       "    </tr>\n",
       "    <tr>\n",
       "      <th>10974</th>\n",
       "      <td>75</td>\n",
       "      <td>61</td>\n",
       "      <td>134.890621</td>\n",
       "      <td>2836</td>\n",
       "      <td>14</td>\n",
       "      <td>0</td>\n",
       "      <td>747.513025</td>\n",
       "      <td>18.282082</td>\n",
       "      <td>26</td>\n",
       "      <td>22</td>\n",
       "      <td>33.977865</td>\n",
       "      <td>0.556006</td>\n",
       "      <td>1</td>\n",
       "      <td>0.047564</td>\n",
       "      <td>2453.264367</td>\n",
       "      <td>12.254312</td>\n",
       "      <td>0.103788</td>\n",
       "      <td>1</td>\n",
       "    </tr>\n",
       "    <tr>\n",
       "      <th>3258</th>\n",
       "      <td>57</td>\n",
       "      <td>46</td>\n",
       "      <td>99.373995</td>\n",
       "      <td>749</td>\n",
       "      <td>0</td>\n",
       "      <td>41</td>\n",
       "      <td>3385.766653</td>\n",
       "      <td>2028.491028</td>\n",
       "      <td>10</td>\n",
       "      <td>4</td>\n",
       "      <td>846.441663</td>\n",
       "      <td>0.573591</td>\n",
       "      <td>0</td>\n",
       "      <td>0.132676</td>\n",
       "      <td>100.146363</td>\n",
       "      <td>73.603623</td>\n",
       "      <td>0.412583</td>\n",
       "      <td>1</td>\n",
       "    </tr>\n",
       "    <tr>\n",
       "      <th>11423</th>\n",
       "      <td>77</td>\n",
       "      <td>62</td>\n",
       "      <td>172.685927</td>\n",
       "      <td>2880</td>\n",
       "      <td>0</td>\n",
       "      <td>31</td>\n",
       "      <td>4258.933023</td>\n",
       "      <td>2382.038539</td>\n",
       "      <td>11</td>\n",
       "      <td>11</td>\n",
       "      <td>387.175729</td>\n",
       "      <td>0.445896</td>\n",
       "      <td>0</td>\n",
       "      <td>0.059960</td>\n",
       "      <td>107.276174</td>\n",
       "      <td>68.692468</td>\n",
       "      <td>0.179517</td>\n",
       "      <td>1</td>\n",
       "    </tr>\n",
       "  </tbody>\n",
       "</table>\n",
       "<p>8579 rows × 18 columns</p>\n",
       "</div>"
      ],
      "text/plain": [
       "       sessions  drives  total_sessions  n_days_after_onboarding  \\\n",
       "627         354     334      387.952131                     1702   \n",
       "8588         61      49      186.438384                     3435   \n",
       "3202        199     160      326.029353                     1145   \n",
       "12449        21      21       57.436499                     2808   \n",
       "7185        105     105      144.822673                     3030   \n",
       "...         ...     ...             ...                      ...   \n",
       "7497         19      19       73.947036                     1622   \n",
       "5305         15      15       29.705603                       85   \n",
       "10974        75      61      134.890621                     2836   \n",
       "3258         57      46       99.373995                      749   \n",
       "11423        77      62      172.685927                     2880   \n",
       "\n",
       "       total_navigations_fav1  total_navigations_fav2  driven_km_drives  \\\n",
       "627                       102                      69       2675.597422   \n",
       "8588                       29                      37       2983.491114   \n",
       "3202                        0                       0       3723.097732   \n",
       "12449                       0                       1       1622.526652   \n",
       "7185                       17                      84      10559.209360   \n",
       "...                       ...                     ...               ...   \n",
       "7497                        0                      48       1347.781426   \n",
       "5305                       61                      41        629.386062   \n",
       "10974                      14                       0        747.513025   \n",
       "3258                        0                      41       3385.766653   \n",
       "11423                       0                      31       4258.933023   \n",
       "\n",
       "       duration_minutes_drives  activity_days  driving_days  \\\n",
       "627                1769.200501             19            18   \n",
       "8588               1876.611394             27            23   \n",
       "3202               2225.499258              8             8   \n",
       "12449               432.967910             22            15   \n",
       "7185               5463.480168             31            30   \n",
       "...                        ...            ...           ...   \n",
       "7497                898.722357              4             4   \n",
       "5305                476.107096             18            12   \n",
       "10974                18.282082             26            22   \n",
       "3258               2028.491028             10             4   \n",
       "11423              2382.038539             11            11   \n",
       "\n",
       "       km_per_driving_day  percent_sessions_in_last_month  \\\n",
       "627            148.644301                        0.912484   \n",
       "8588           129.717005                        0.327186   \n",
       "3202           465.387217                        0.610374   \n",
       "12449          108.168443                        0.365621   \n",
       "7185           351.973645                        0.725025   \n",
       "...                   ...                             ...   \n",
       "7497           336.945357                        0.256941   \n",
       "5305            52.448838                        0.504955   \n",
       "10974           33.977865                        0.556006   \n",
       "3258           846.441663                        0.573591   \n",
       "11423          387.175729                        0.445896   \n",
       "\n",
       "       professional_driver  total_sessions_per_day  km_per_hour  km_per_drive  \\\n",
       "627                      1                0.227939    90.739204      8.010771   \n",
       "8588                     0                0.054276    95.389737     60.887574   \n",
       "3202                     0                0.284742   100.375618     23.269361   \n",
       "12449                    0                0.020455   224.847147     77.263174   \n",
       "7185                     1                0.047796   115.961355    100.563899   \n",
       "...                    ...                     ...          ...           ...   \n",
       "7497                     0                0.045590    89.979831     70.935865   \n",
       "5305                     0                0.349478    79.316532     41.959071   \n",
       "10974                    1                0.047564  2453.264367     12.254312   \n",
       "3258                     0                0.132676   100.146363     73.603623   \n",
       "11423                    0                0.059960   107.276174     68.692468   \n",
       "\n",
       "       percent_of_sessions_to_favorite  device2  \n",
       "627                           0.440776        1  \n",
       "8588                          0.354004        0  \n",
       "3202                          0.000000        1  \n",
       "12449                         0.017411        1  \n",
       "7185                          0.697405        1  \n",
       "...                                ...      ...  \n",
       "7497                          0.649113        1  \n",
       "5305                          3.433696        1  \n",
       "10974                         0.103788        1  \n",
       "3258                          0.412583        1  \n",
       "11423                         0.179517        1  \n",
       "\n",
       "[8579 rows x 18 columns]"
      ]
     },
     "execution_count": 42,
     "metadata": {},
     "output_type": "execute_result"
    }
   ],
   "source": [
    "X_train"
   ]
  },
  {
   "cell_type": "markdown",
   "metadata": {
    "id": "moLls6Lech47"
   },
   "source": [
    "Verify the number of samples in the partitioned data."
   ]
  },
  {
   "cell_type": "code",
   "execution_count": 43,
   "metadata": {
    "id": "qWIog8v_ckIg"
   },
   "outputs": [
    {
     "data": {
      "text/plain": [
       "0.5999720260158053"
      ]
     },
     "execution_count": 43,
     "metadata": {},
     "output_type": "execute_result"
    }
   ],
   "source": [
    "X_train.shape[0]/df.shape[0]"
   ]
  },
  {
   "cell_type": "markdown",
   "metadata": {
    "id": "0x-4vGANcki4"
   },
   "source": [
    "This aligns with expectations."
   ]
  },
  {
   "cell_type": "markdown",
   "metadata": {
    "id": "4vSaa0-xcu4Q"
   },
   "source": [
    "### **Task 10. Modeling**"
   ]
  },
  {
   "cell_type": "markdown",
   "metadata": {
    "id": "vynZs5het1b_"
   },
   "source": [
    "#### **Random forest**\n",
    "\n",
    "Begin with using `GridSearchCV` to tune a random forest model.\n",
    "\n",
    "1. Instantiate the random forest classifier `rf` and set the random state.\n",
    "\n",
    "2. Create a dictionary `cv_params` of any of the following hyperparameters and their corresponding values to tune. The more you tune, the better your model will fit the data, but the longer it will take.\n",
    " - `max_depth`\n",
    " - `max_features`\n",
    " - `max_samples`\n",
    " - `min_samples_leaf`\n",
    " - `min_samples_split`\n",
    " - `n_estimators`\n",
    "\n",
    "3. Define a dictionary `scoring` of scoring metrics for GridSearch to capture (precision, recall, F1 score, and accuracy).\n",
    "\n",
    "4. Instantiate the `GridSearchCV` object `rf_cv`. Pass to it as arguments:\n",
    " - estimator=`rf`\n",
    " - param_grid=`cv_params`\n",
    " - scoring=`scoring`\n",
    " - cv: define the number of cross-validation folds you want (`cv=_`)\n",
    " - refit: indicate which evaluation metric you want to use to select the model (`refit=_`)\n",
    "\n",
    " `refit` should be set to `'recall'`.<font/>\n",
    "\n"
   ]
  },
  {
   "cell_type": "markdown",
   "metadata": {
    "id": "vvpX9RDFc2MD"
   },
   "source": [
    "**Note:** To save time, this exemplar doesn't use multiple values for each parameter in the grid search, but you should include a range of values in your search to home in on the best set of parameters."
   ]
  },
  {
   "cell_type": "code",
   "execution_count": 45,
   "metadata": {},
   "outputs": [],
   "source": [
    "# Import GridSearchCV\n",
    "from sklearn.model_selection import GridSearchCV"
   ]
  },
  {
   "cell_type": "code",
   "execution_count": 105,
   "metadata": {
    "id": "Vj5rJWOv5O3d"
   },
   "outputs": [],
   "source": [
    "# 1. Instantiate the random forest classifier\n",
    "rf = RandomForestClassifier(random_state=0)\n",
    "\n",
    "# 2. Create a dictionary of hyperparameters to tune\n",
    "cv_params = {'max_depth':[4,5,6,7,8,9,10],\n",
    "             'max_features': [10,12],\n",
    "             'min_samples_leaf': [2, 5, 10]\n",
    "           }\n",
    "\n",
    "#cv_params = {'max_depth':[4],\n",
    "#             'max_features': [10],\n",
    "#             'min_samples_leaf': [2]\n",
    "#            }\n",
    "\n",
    "# 3. Define a dictionary of scoring metrics to capture\n",
    "scoring = {'accuracy', 'precision', 'recall', 'f1'}\n",
    "\n",
    "# 4. Instantiate the GridSearchCV object\n",
    "rf_clf = GridSearchCV(rf, \n",
    "                   cv_params, \n",
    "                   scoring = scoring, \n",
    "                   cv=3, \n",
    "                   refit=\"recall\")"
   ]
  },
  {
   "cell_type": "markdown",
   "metadata": {
    "id": "Wv_WvRA1RqTl"
   },
   "source": [
    "Now fit the model to the training data."
   ]
  },
  {
   "cell_type": "code",
   "execution_count": 106,
   "metadata": {
    "id": "OXuBiTGi5ZHn"
   },
   "outputs": [
    {
     "data": {
      "text/html": [
       "<style>#sk-container-id-15 {color: black;background-color: white;}#sk-container-id-15 pre{padding: 0;}#sk-container-id-15 div.sk-toggleable {background-color: white;}#sk-container-id-15 label.sk-toggleable__label {cursor: pointer;display: block;width: 100%;margin-bottom: 0;padding: 0.3em;box-sizing: border-box;text-align: center;}#sk-container-id-15 label.sk-toggleable__label-arrow:before {content: \"▸\";float: left;margin-right: 0.25em;color: #696969;}#sk-container-id-15 label.sk-toggleable__label-arrow:hover:before {color: black;}#sk-container-id-15 div.sk-estimator:hover label.sk-toggleable__label-arrow:before {color: black;}#sk-container-id-15 div.sk-toggleable__content {max-height: 0;max-width: 0;overflow: hidden;text-align: left;background-color: #f0f8ff;}#sk-container-id-15 div.sk-toggleable__content pre {margin: 0.2em;color: black;border-radius: 0.25em;background-color: #f0f8ff;}#sk-container-id-15 input.sk-toggleable__control:checked~div.sk-toggleable__content {max-height: 200px;max-width: 100%;overflow: auto;}#sk-container-id-15 input.sk-toggleable__control:checked~label.sk-toggleable__label-arrow:before {content: \"▾\";}#sk-container-id-15 div.sk-estimator input.sk-toggleable__control:checked~label.sk-toggleable__label {background-color: #d4ebff;}#sk-container-id-15 div.sk-label input.sk-toggleable__control:checked~label.sk-toggleable__label {background-color: #d4ebff;}#sk-container-id-15 input.sk-hidden--visually {border: 0;clip: rect(1px 1px 1px 1px);clip: rect(1px, 1px, 1px, 1px);height: 1px;margin: -1px;overflow: hidden;padding: 0;position: absolute;width: 1px;}#sk-container-id-15 div.sk-estimator {font-family: monospace;background-color: #f0f8ff;border: 1px dotted black;border-radius: 0.25em;box-sizing: border-box;margin-bottom: 0.5em;}#sk-container-id-15 div.sk-estimator:hover {background-color: #d4ebff;}#sk-container-id-15 div.sk-parallel-item::after {content: \"\";width: 100%;border-bottom: 1px solid gray;flex-grow: 1;}#sk-container-id-15 div.sk-label:hover label.sk-toggleable__label {background-color: #d4ebff;}#sk-container-id-15 div.sk-serial::before {content: \"\";position: absolute;border-left: 1px solid gray;box-sizing: border-box;top: 0;bottom: 0;left: 50%;z-index: 0;}#sk-container-id-15 div.sk-serial {display: flex;flex-direction: column;align-items: center;background-color: white;padding-right: 0.2em;padding-left: 0.2em;position: relative;}#sk-container-id-15 div.sk-item {position: relative;z-index: 1;}#sk-container-id-15 div.sk-parallel {display: flex;align-items: stretch;justify-content: center;background-color: white;position: relative;}#sk-container-id-15 div.sk-item::before, #sk-container-id-15 div.sk-parallel-item::before {content: \"\";position: absolute;border-left: 1px solid gray;box-sizing: border-box;top: 0;bottom: 0;left: 50%;z-index: -1;}#sk-container-id-15 div.sk-parallel-item {display: flex;flex-direction: column;z-index: 1;position: relative;background-color: white;}#sk-container-id-15 div.sk-parallel-item:first-child::after {align-self: flex-end;width: 50%;}#sk-container-id-15 div.sk-parallel-item:last-child::after {align-self: flex-start;width: 50%;}#sk-container-id-15 div.sk-parallel-item:only-child::after {width: 0;}#sk-container-id-15 div.sk-dashed-wrapped {border: 1px dashed gray;margin: 0 0.4em 0.5em 0.4em;box-sizing: border-box;padding-bottom: 0.4em;background-color: white;}#sk-container-id-15 div.sk-label label {font-family: monospace;font-weight: bold;display: inline-block;line-height: 1.2em;}#sk-container-id-15 div.sk-label-container {text-align: center;}#sk-container-id-15 div.sk-container {/* jupyter's `normalize.less` sets `[hidden] { display: none; }` but bootstrap.min.css set `[hidden] { display: none !important; }` so we also need the `!important` here to be able to override the default hidden behavior on the sphinx rendered scikit-learn.org. See: https://github.com/scikit-learn/scikit-learn/issues/21755 */display: inline-block !important;position: relative;}#sk-container-id-15 div.sk-text-repr-fallback {display: none;}</style><div id=\"sk-container-id-15\" class=\"sk-top-container\"><div class=\"sk-text-repr-fallback\"><pre>GridSearchCV(cv=3, estimator=RandomForestClassifier(random_state=0),\n",
       "             param_grid={&#x27;max_depth&#x27;: [4, 5, 6, 7, 8, 9, 10],\n",
       "                         &#x27;max_features&#x27;: [10, 12],\n",
       "                         &#x27;min_samples_leaf&#x27;: [2, 5, 10]},\n",
       "             refit=&#x27;recall&#x27;, scoring={&#x27;recall&#x27;, &#x27;f1&#x27;, &#x27;accuracy&#x27;, &#x27;precision&#x27;})</pre><b>In a Jupyter environment, please rerun this cell to show the HTML representation or trust the notebook. <br />On GitHub, the HTML representation is unable to render, please try loading this page with nbviewer.org.</b></div><div class=\"sk-container\" hidden><div class=\"sk-item sk-dashed-wrapped\"><div class=\"sk-label-container\"><div class=\"sk-label sk-toggleable\"><input class=\"sk-toggleable__control sk-hidden--visually\" id=\"sk-estimator-id-31\" type=\"checkbox\" ><label for=\"sk-estimator-id-31\" class=\"sk-toggleable__label sk-toggleable__label-arrow\">GridSearchCV</label><div class=\"sk-toggleable__content\"><pre>GridSearchCV(cv=3, estimator=RandomForestClassifier(random_state=0),\n",
       "             param_grid={&#x27;max_depth&#x27;: [4, 5, 6, 7, 8, 9, 10],\n",
       "                         &#x27;max_features&#x27;: [10, 12],\n",
       "                         &#x27;min_samples_leaf&#x27;: [2, 5, 10]},\n",
       "             refit=&#x27;recall&#x27;, scoring={&#x27;recall&#x27;, &#x27;f1&#x27;, &#x27;accuracy&#x27;, &#x27;precision&#x27;})</pre></div></div></div><div class=\"sk-parallel\"><div class=\"sk-parallel-item\"><div class=\"sk-item\"><div class=\"sk-label-container\"><div class=\"sk-label sk-toggleable\"><input class=\"sk-toggleable__control sk-hidden--visually\" id=\"sk-estimator-id-32\" type=\"checkbox\" ><label for=\"sk-estimator-id-32\" class=\"sk-toggleable__label sk-toggleable__label-arrow\">estimator: RandomForestClassifier</label><div class=\"sk-toggleable__content\"><pre>RandomForestClassifier(random_state=0)</pre></div></div></div><div class=\"sk-serial\"><div class=\"sk-item\"><div class=\"sk-estimator sk-toggleable\"><input class=\"sk-toggleable__control sk-hidden--visually\" id=\"sk-estimator-id-33\" type=\"checkbox\" ><label for=\"sk-estimator-id-33\" class=\"sk-toggleable__label sk-toggleable__label-arrow\">RandomForestClassifier</label><div class=\"sk-toggleable__content\"><pre>RandomForestClassifier(random_state=0)</pre></div></div></div></div></div></div></div></div></div></div>"
      ],
      "text/plain": [
       "GridSearchCV(cv=3, estimator=RandomForestClassifier(random_state=0),\n",
       "             param_grid={'max_depth': [4, 5, 6, 7, 8, 9, 10],\n",
       "                         'max_features': [10, 12],\n",
       "                         'min_samples_leaf': [2, 5, 10]},\n",
       "             refit='recall', scoring={'recall', 'f1', 'accuracy', 'precision'})"
      ]
     },
     "execution_count": 106,
     "metadata": {},
     "output_type": "execute_result"
    }
   ],
   "source": [
    "rf_clf.fit(X_train, y_train)"
   ]
  },
  {
   "cell_type": "markdown",
   "metadata": {
    "id": "5wHi_YJduQOH"
   },
   "source": [
    "Examine the best average score across all the validation folds."
   ]
  },
  {
   "cell_type": "code",
   "execution_count": 107,
   "metadata": {
    "id": "YtAgrH0zy4CE"
   },
   "outputs": [
    {
     "name": "stdout",
     "output_type": "stream",
     "text": [
      "Best Avg. Validation Score:  0.1038\n"
     ]
    }
   ],
   "source": [
    "# Examine best score\n",
    "print(\"Best Avg. Validation Score: \", \"%.4f\" % rf_clf.best_score_)"
   ]
  },
  {
   "cell_type": "markdown",
   "metadata": {
    "id": "heGb51fHh3E5"
   },
   "source": [
    "Examine the best combination of hyperparameters."
   ]
  },
  {
   "cell_type": "code",
   "execution_count": 108,
   "metadata": {
    "id": "kazNtYG4fQOI"
   },
   "outputs": [
    {
     "data": {
      "text/html": [
       "<style>#sk-container-id-16 {color: black;background-color: white;}#sk-container-id-16 pre{padding: 0;}#sk-container-id-16 div.sk-toggleable {background-color: white;}#sk-container-id-16 label.sk-toggleable__label {cursor: pointer;display: block;width: 100%;margin-bottom: 0;padding: 0.3em;box-sizing: border-box;text-align: center;}#sk-container-id-16 label.sk-toggleable__label-arrow:before {content: \"▸\";float: left;margin-right: 0.25em;color: #696969;}#sk-container-id-16 label.sk-toggleable__label-arrow:hover:before {color: black;}#sk-container-id-16 div.sk-estimator:hover label.sk-toggleable__label-arrow:before {color: black;}#sk-container-id-16 div.sk-toggleable__content {max-height: 0;max-width: 0;overflow: hidden;text-align: left;background-color: #f0f8ff;}#sk-container-id-16 div.sk-toggleable__content pre {margin: 0.2em;color: black;border-radius: 0.25em;background-color: #f0f8ff;}#sk-container-id-16 input.sk-toggleable__control:checked~div.sk-toggleable__content {max-height: 200px;max-width: 100%;overflow: auto;}#sk-container-id-16 input.sk-toggleable__control:checked~label.sk-toggleable__label-arrow:before {content: \"▾\";}#sk-container-id-16 div.sk-estimator input.sk-toggleable__control:checked~label.sk-toggleable__label {background-color: #d4ebff;}#sk-container-id-16 div.sk-label input.sk-toggleable__control:checked~label.sk-toggleable__label {background-color: #d4ebff;}#sk-container-id-16 input.sk-hidden--visually {border: 0;clip: rect(1px 1px 1px 1px);clip: rect(1px, 1px, 1px, 1px);height: 1px;margin: -1px;overflow: hidden;padding: 0;position: absolute;width: 1px;}#sk-container-id-16 div.sk-estimator {font-family: monospace;background-color: #f0f8ff;border: 1px dotted black;border-radius: 0.25em;box-sizing: border-box;margin-bottom: 0.5em;}#sk-container-id-16 div.sk-estimator:hover {background-color: #d4ebff;}#sk-container-id-16 div.sk-parallel-item::after {content: \"\";width: 100%;border-bottom: 1px solid gray;flex-grow: 1;}#sk-container-id-16 div.sk-label:hover label.sk-toggleable__label {background-color: #d4ebff;}#sk-container-id-16 div.sk-serial::before {content: \"\";position: absolute;border-left: 1px solid gray;box-sizing: border-box;top: 0;bottom: 0;left: 50%;z-index: 0;}#sk-container-id-16 div.sk-serial {display: flex;flex-direction: column;align-items: center;background-color: white;padding-right: 0.2em;padding-left: 0.2em;position: relative;}#sk-container-id-16 div.sk-item {position: relative;z-index: 1;}#sk-container-id-16 div.sk-parallel {display: flex;align-items: stretch;justify-content: center;background-color: white;position: relative;}#sk-container-id-16 div.sk-item::before, #sk-container-id-16 div.sk-parallel-item::before {content: \"\";position: absolute;border-left: 1px solid gray;box-sizing: border-box;top: 0;bottom: 0;left: 50%;z-index: -1;}#sk-container-id-16 div.sk-parallel-item {display: flex;flex-direction: column;z-index: 1;position: relative;background-color: white;}#sk-container-id-16 div.sk-parallel-item:first-child::after {align-self: flex-end;width: 50%;}#sk-container-id-16 div.sk-parallel-item:last-child::after {align-self: flex-start;width: 50%;}#sk-container-id-16 div.sk-parallel-item:only-child::after {width: 0;}#sk-container-id-16 div.sk-dashed-wrapped {border: 1px dashed gray;margin: 0 0.4em 0.5em 0.4em;box-sizing: border-box;padding-bottom: 0.4em;background-color: white;}#sk-container-id-16 div.sk-label label {font-family: monospace;font-weight: bold;display: inline-block;line-height: 1.2em;}#sk-container-id-16 div.sk-label-container {text-align: center;}#sk-container-id-16 div.sk-container {/* jupyter's `normalize.less` sets `[hidden] { display: none; }` but bootstrap.min.css set `[hidden] { display: none !important; }` so we also need the `!important` here to be able to override the default hidden behavior on the sphinx rendered scikit-learn.org. See: https://github.com/scikit-learn/scikit-learn/issues/21755 */display: inline-block !important;position: relative;}#sk-container-id-16 div.sk-text-repr-fallback {display: none;}</style><div id=\"sk-container-id-16\" class=\"sk-top-container\"><div class=\"sk-text-repr-fallback\"><pre>RandomForestClassifier(max_depth=10, max_features=10, min_samples_leaf=2,\n",
       "                       random_state=0)</pre><b>In a Jupyter environment, please rerun this cell to show the HTML representation or trust the notebook. <br />On GitHub, the HTML representation is unable to render, please try loading this page with nbviewer.org.</b></div><div class=\"sk-container\" hidden><div class=\"sk-item\"><div class=\"sk-estimator sk-toggleable\"><input class=\"sk-toggleable__control sk-hidden--visually\" id=\"sk-estimator-id-34\" type=\"checkbox\" checked><label for=\"sk-estimator-id-34\" class=\"sk-toggleable__label sk-toggleable__label-arrow\">RandomForestClassifier</label><div class=\"sk-toggleable__content\"><pre>RandomForestClassifier(max_depth=10, max_features=10, min_samples_leaf=2,\n",
       "                       random_state=0)</pre></div></div></div></div></div>"
      ],
      "text/plain": [
       "RandomForestClassifier(max_depth=10, max_features=10, min_samples_leaf=2,\n",
       "                       random_state=0)"
      ]
     },
     "execution_count": 108,
     "metadata": {},
     "output_type": "execute_result"
    }
   ],
   "source": [
    "# Examine best hyperparameter combo\n",
    "rf_clf.best_estimator_"
   ]
  },
  {
   "cell_type": "markdown",
   "metadata": {
    "id": "qZZnem5yiAau"
   },
   "source": [
    "Use the `make_results()` function to output all of the scores of your model. Note that the function accepts three arguments."
   ]
  },
  {
   "cell_type": "markdown",
   "metadata": {
    "id": "GeW48TS742jN"
   },
   "source": [
    "<details>\n",
    "  <summary><h5>HINT</h5></summary>\n",
    "\n",
    "To learn more about how this function accesses the cross-validation results, refer to the [`GridSearchCV` scikit-learn documentation](https://scikit-learn.org/stable/modules/generated/sklearn.model_selection.GridSearchCV.html?highlight=gridsearchcv#sklearn.model_selection.GridSearchCV) for the `cv_results_` attribute.\n",
    "\n",
    "</details>"
   ]
  },
  {
   "cell_type": "code",
   "execution_count": 109,
   "metadata": {
    "id": "u-UodWEOedxz"
   },
   "outputs": [],
   "source": [
    "def make_results(model_name:str, model_object, metric:str):\n",
    "    '''\n",
    "    Arguments:\n",
    "        model_name (string): what you want the model to be called in the output table\n",
    "        model_object: a fit GridSearchCV object\n",
    "        metric (string): precision, recall, f1, or accuracy\n",
    "\n",
    "    Returns a pandas df with the F1, recall, precision, and accuracy scores\n",
    "    for the model with the best mean 'metric' score across all validation folds.\n",
    "    '''\n",
    "\n",
    "    # Create dictionary that maps input metric to actual metric name in GridSearchCV\n",
    "    metric_dict = {'precision': 'mean_test_precision',\n",
    "                   'recall': 'mean_test_recall',\n",
    "                   'f1': 'mean_test_f1',\n",
    "                   'accuracy': 'mean_test_accuracy',\n",
    "                   }\n",
    "\n",
    "    # Get all the results from the CV and put them in a df\n",
    "    cv_results = pd.DataFrame(model_object.cv_results_)\n",
    "\n",
    "    # Isolate the row of the df with the max(metric) score\n",
    "    best_estimator_results = cv_results.iloc[cv_results[metric_dict[metric]].idxmax(), :]\n",
    "\n",
    "    # Extract Accuracy, precision, recall, and f1 score from that row\n",
    "    f1 = best_estimator_results.mean_test_f1\n",
    "    recall = best_estimator_results.mean_test_recall\n",
    "    precision = best_estimator_results.mean_test_precision\n",
    "    accuracy = best_estimator_results.mean_test_accuracy\n",
    "\n",
    "    # Create table of results\n",
    "    table = pd.DataFrame({'Model': [model_name],\n",
    "                          'F1': [f1],\n",
    "                          'Recall': [recall],\n",
    "                          'Precision': [precision],\n",
    "                          'Accuracy': [accuracy]\n",
    "                         }\n",
    "                        )\n",
    "    return table"
   ]
  },
  {
   "cell_type": "markdown",
   "metadata": {
    "id": "diQezudIfzHn"
   },
   "source": [
    "Pass the `GridSearch` object to the `make_results()` function."
   ]
  },
  {
   "cell_type": "code",
   "execution_count": 130,
   "metadata": {
    "id": "qAYb2QigiT_h"
   },
   "outputs": [
    {
     "data": {
      "text/html": [
       "<div>\n",
       "<style scoped>\n",
       "    .dataframe tbody tr th:only-of-type {\n",
       "        vertical-align: middle;\n",
       "    }\n",
       "\n",
       "    .dataframe tbody tr th {\n",
       "        vertical-align: top;\n",
       "    }\n",
       "\n",
       "    .dataframe thead th {\n",
       "        text-align: right;\n",
       "    }\n",
       "</style>\n",
       "<table border=\"1\" class=\"dataframe\">\n",
       "  <thead>\n",
       "    <tr style=\"text-align: right;\">\n",
       "      <th></th>\n",
       "      <th>Model</th>\n",
       "      <th>F1</th>\n",
       "      <th>Recall</th>\n",
       "      <th>Precision</th>\n",
       "      <th>Accuracy</th>\n",
       "    </tr>\n",
       "  </thead>\n",
       "  <tbody>\n",
       "    <tr>\n",
       "      <th>0</th>\n",
       "      <td>Tuned Random Forest</td>\n",
       "      <td>0.171811</td>\n",
       "      <td>0.103803</td>\n",
       "      <td>0.50904</td>\n",
       "      <td>0.822823</td>\n",
       "    </tr>\n",
       "  </tbody>\n",
       "</table>\n",
       "</div>"
      ],
      "text/plain": [
       "                 Model        F1    Recall  Precision  Accuracy\n",
       "0  Tuned Random Forest  0.171811  0.103803    0.50904  0.822823"
      ]
     },
     "execution_count": 130,
     "metadata": {},
     "output_type": "execute_result"
    }
   ],
   "source": [
    "results = make_results('Tuned Random Forest', rf_clf, 'recall')\n",
    "results"
   ]
  },
  {
   "cell_type": "markdown",
   "metadata": {
    "id": "SB-yhW9uu7dO"
   },
   "source": [
    "Asside from the accuracy, the scores aren't that good. However, recall that when you built the logistic regression model in the last course the recall was \\~0.09, which means that this model has 33% better recall and about the same accuracy, and it was trained on less data.\n",
    "\n",
    "If you want, feel free to try retuning your hyperparameters to try to get a better score. You might be able to marginally improve the model."
   ]
  },
  {
   "cell_type": "markdown",
   "metadata": {
    "id": "DOlktJ6l4Tgt"
   },
   "source": [
    "#### **XGBoost**\n",
    "\n",
    " Try to improve your scores using an XGBoost model.\n",
    "\n",
    "1. Instantiate the XGBoost classifier `xgb` and set `objective='binary:logistic'`. Also set the random state.\n",
    "\n",
    "2. Create a dictionary `cv_params` of the following hyperparameters and their corresponding values to tune:\n",
    " - `max_depth`\n",
    " - `min_child_weight`\n",
    " - `learning_rate`\n",
    " - `n_estimators`\n",
    "\n",
    "3. Define a dictionary `scoring` of scoring metrics for grid search to capture (precision, recall, F1 score, and accuracy).\n",
    "\n",
    "4. Instantiate the `GridSearchCV` object `xgb_cv`. Pass to it as arguments:\n",
    " - estimator=`xgb`\n",
    " - param_grid=`cv_params`\n",
    " - scoring=`scoring`\n",
    " - cv: define the number of cross-validation folds you want (`cv=_`)\n",
    " - refit: indicate which evaluation metric you want to use to select the model (`refit='recall'`)"
   ]
  },
  {
   "cell_type": "code",
   "execution_count": 111,
   "metadata": {
    "id": "0ciO48nhiTqO"
   },
   "outputs": [],
   "source": [
    "# 1. Instantiate the XGBoost classifier\n",
    "xgb = XGBClassifier(objective='binary:logistic', random_state=42)\n",
    "\n",
    "# 2. Create a dictionary of hyperparameters to tune\n",
    "cv_params = {'max_depth':[4,5,6,7,8,9,10,11,12],\n",
    "            'min_child_weight': [1,2,3,4,5,6],\n",
    "            'learning_rate': [0.1, 0.01, 0.2],\n",
    "            'n_estimators': [300]\n",
    "            }\n",
    "\n",
    "# 3. Define a dictionary of scoring metrics to capture\n",
    "scoring = {'accuracy', 'precision', 'recall', 'f1'}\n",
    "\n",
    "# 4. Instantiate the GridSearchCV object\n",
    "xgb_clf = GridSearchCV(xgb, \n",
    "                   cv_params, \n",
    "                   scoring = scoring, \n",
    "                   cv=5, \n",
    "                   refit=\"recall\")"
   ]
  },
  {
   "cell_type": "markdown",
   "metadata": {
    "id": "Y78-hQF9680x"
   },
   "source": [
    "Now fit the model to the `X_train` and `y_train` data.\n",
    "\n",
    "Note this cell might take several minutes to run."
   ]
  },
  {
   "cell_type": "code",
   "execution_count": 112,
   "metadata": {
    "id": "dYCWs_HX6804"
   },
   "outputs": [
    {
     "data": {
      "text/html": [
       "<style>#sk-container-id-17 {color: black;background-color: white;}#sk-container-id-17 pre{padding: 0;}#sk-container-id-17 div.sk-toggleable {background-color: white;}#sk-container-id-17 label.sk-toggleable__label {cursor: pointer;display: block;width: 100%;margin-bottom: 0;padding: 0.3em;box-sizing: border-box;text-align: center;}#sk-container-id-17 label.sk-toggleable__label-arrow:before {content: \"▸\";float: left;margin-right: 0.25em;color: #696969;}#sk-container-id-17 label.sk-toggleable__label-arrow:hover:before {color: black;}#sk-container-id-17 div.sk-estimator:hover label.sk-toggleable__label-arrow:before {color: black;}#sk-container-id-17 div.sk-toggleable__content {max-height: 0;max-width: 0;overflow: hidden;text-align: left;background-color: #f0f8ff;}#sk-container-id-17 div.sk-toggleable__content pre {margin: 0.2em;color: black;border-radius: 0.25em;background-color: #f0f8ff;}#sk-container-id-17 input.sk-toggleable__control:checked~div.sk-toggleable__content {max-height: 200px;max-width: 100%;overflow: auto;}#sk-container-id-17 input.sk-toggleable__control:checked~label.sk-toggleable__label-arrow:before {content: \"▾\";}#sk-container-id-17 div.sk-estimator input.sk-toggleable__control:checked~label.sk-toggleable__label {background-color: #d4ebff;}#sk-container-id-17 div.sk-label input.sk-toggleable__control:checked~label.sk-toggleable__label {background-color: #d4ebff;}#sk-container-id-17 input.sk-hidden--visually {border: 0;clip: rect(1px 1px 1px 1px);clip: rect(1px, 1px, 1px, 1px);height: 1px;margin: -1px;overflow: hidden;padding: 0;position: absolute;width: 1px;}#sk-container-id-17 div.sk-estimator {font-family: monospace;background-color: #f0f8ff;border: 1px dotted black;border-radius: 0.25em;box-sizing: border-box;margin-bottom: 0.5em;}#sk-container-id-17 div.sk-estimator:hover {background-color: #d4ebff;}#sk-container-id-17 div.sk-parallel-item::after {content: \"\";width: 100%;border-bottom: 1px solid gray;flex-grow: 1;}#sk-container-id-17 div.sk-label:hover label.sk-toggleable__label {background-color: #d4ebff;}#sk-container-id-17 div.sk-serial::before {content: \"\";position: absolute;border-left: 1px solid gray;box-sizing: border-box;top: 0;bottom: 0;left: 50%;z-index: 0;}#sk-container-id-17 div.sk-serial {display: flex;flex-direction: column;align-items: center;background-color: white;padding-right: 0.2em;padding-left: 0.2em;position: relative;}#sk-container-id-17 div.sk-item {position: relative;z-index: 1;}#sk-container-id-17 div.sk-parallel {display: flex;align-items: stretch;justify-content: center;background-color: white;position: relative;}#sk-container-id-17 div.sk-item::before, #sk-container-id-17 div.sk-parallel-item::before {content: \"\";position: absolute;border-left: 1px solid gray;box-sizing: border-box;top: 0;bottom: 0;left: 50%;z-index: -1;}#sk-container-id-17 div.sk-parallel-item {display: flex;flex-direction: column;z-index: 1;position: relative;background-color: white;}#sk-container-id-17 div.sk-parallel-item:first-child::after {align-self: flex-end;width: 50%;}#sk-container-id-17 div.sk-parallel-item:last-child::after {align-self: flex-start;width: 50%;}#sk-container-id-17 div.sk-parallel-item:only-child::after {width: 0;}#sk-container-id-17 div.sk-dashed-wrapped {border: 1px dashed gray;margin: 0 0.4em 0.5em 0.4em;box-sizing: border-box;padding-bottom: 0.4em;background-color: white;}#sk-container-id-17 div.sk-label label {font-family: monospace;font-weight: bold;display: inline-block;line-height: 1.2em;}#sk-container-id-17 div.sk-label-container {text-align: center;}#sk-container-id-17 div.sk-container {/* jupyter's `normalize.less` sets `[hidden] { display: none; }` but bootstrap.min.css set `[hidden] { display: none !important; }` so we also need the `!important` here to be able to override the default hidden behavior on the sphinx rendered scikit-learn.org. See: https://github.com/scikit-learn/scikit-learn/issues/21755 */display: inline-block !important;position: relative;}#sk-container-id-17 div.sk-text-repr-fallback {display: none;}</style><div id=\"sk-container-id-17\" class=\"sk-top-container\"><div class=\"sk-text-repr-fallback\"><pre>GridSearchCV(cv=5,\n",
       "             estimator=XGBClassifier(base_score=None, booster=None,\n",
       "                                     callbacks=None, colsample_bylevel=None,\n",
       "                                     colsample_bynode=None,\n",
       "                                     colsample_bytree=None, device=None,\n",
       "                                     early_stopping_rounds=None,\n",
       "                                     enable_categorical=False, eval_metric=None,\n",
       "                                     feature_types=None, gamma=None,\n",
       "                                     grow_policy=None, importance_type=None,\n",
       "                                     interaction_constraints=None,\n",
       "                                     learning_rate=None,...\n",
       "                                     max_leaves=None, min_child_weight=None,\n",
       "                                     missing=nan, monotone_constraints=None,\n",
       "                                     multi_strategy=None, n_estimators=None,\n",
       "                                     n_jobs=None, num_parallel_tree=None,\n",
       "                                     random_state=42, ...),\n",
       "             param_grid={&#x27;learning_rate&#x27;: [0.1, 0.01, 0.2],\n",
       "                         &#x27;max_depth&#x27;: [4, 5, 6, 7, 8, 9, 10, 11, 12],\n",
       "                         &#x27;min_child_weight&#x27;: [1, 2, 3, 4, 5, 6],\n",
       "                         &#x27;n_estimators&#x27;: [300]},\n",
       "             refit=&#x27;recall&#x27;, scoring={&#x27;recall&#x27;, &#x27;f1&#x27;, &#x27;accuracy&#x27;, &#x27;precision&#x27;})</pre><b>In a Jupyter environment, please rerun this cell to show the HTML representation or trust the notebook. <br />On GitHub, the HTML representation is unable to render, please try loading this page with nbviewer.org.</b></div><div class=\"sk-container\" hidden><div class=\"sk-item sk-dashed-wrapped\"><div class=\"sk-label-container\"><div class=\"sk-label sk-toggleable\"><input class=\"sk-toggleable__control sk-hidden--visually\" id=\"sk-estimator-id-35\" type=\"checkbox\" ><label for=\"sk-estimator-id-35\" class=\"sk-toggleable__label sk-toggleable__label-arrow\">GridSearchCV</label><div class=\"sk-toggleable__content\"><pre>GridSearchCV(cv=5,\n",
       "             estimator=XGBClassifier(base_score=None, booster=None,\n",
       "                                     callbacks=None, colsample_bylevel=None,\n",
       "                                     colsample_bynode=None,\n",
       "                                     colsample_bytree=None, device=None,\n",
       "                                     early_stopping_rounds=None,\n",
       "                                     enable_categorical=False, eval_metric=None,\n",
       "                                     feature_types=None, gamma=None,\n",
       "                                     grow_policy=None, importance_type=None,\n",
       "                                     interaction_constraints=None,\n",
       "                                     learning_rate=None,...\n",
       "                                     max_leaves=None, min_child_weight=None,\n",
       "                                     missing=nan, monotone_constraints=None,\n",
       "                                     multi_strategy=None, n_estimators=None,\n",
       "                                     n_jobs=None, num_parallel_tree=None,\n",
       "                                     random_state=42, ...),\n",
       "             param_grid={&#x27;learning_rate&#x27;: [0.1, 0.01, 0.2],\n",
       "                         &#x27;max_depth&#x27;: [4, 5, 6, 7, 8, 9, 10, 11, 12],\n",
       "                         &#x27;min_child_weight&#x27;: [1, 2, 3, 4, 5, 6],\n",
       "                         &#x27;n_estimators&#x27;: [300]},\n",
       "             refit=&#x27;recall&#x27;, scoring={&#x27;recall&#x27;, &#x27;f1&#x27;, &#x27;accuracy&#x27;, &#x27;precision&#x27;})</pre></div></div></div><div class=\"sk-parallel\"><div class=\"sk-parallel-item\"><div class=\"sk-item\"><div class=\"sk-label-container\"><div class=\"sk-label sk-toggleable\"><input class=\"sk-toggleable__control sk-hidden--visually\" id=\"sk-estimator-id-36\" type=\"checkbox\" ><label for=\"sk-estimator-id-36\" class=\"sk-toggleable__label sk-toggleable__label-arrow\">estimator: XGBClassifier</label><div class=\"sk-toggleable__content\"><pre>XGBClassifier(base_score=None, booster=None, callbacks=None,\n",
       "              colsample_bylevel=None, colsample_bynode=None,\n",
       "              colsample_bytree=None, device=None, early_stopping_rounds=None,\n",
       "              enable_categorical=False, eval_metric=None, feature_types=None,\n",
       "              gamma=None, grow_policy=None, importance_type=None,\n",
       "              interaction_constraints=None, learning_rate=None, max_bin=None,\n",
       "              max_cat_threshold=None, max_cat_to_onehot=None,\n",
       "              max_delta_step=None, max_depth=None, max_leaves=None,\n",
       "              min_child_weight=None, missing=nan, monotone_constraints=None,\n",
       "              multi_strategy=None, n_estimators=None, n_jobs=None,\n",
       "              num_parallel_tree=None, random_state=42, ...)</pre></div></div></div><div class=\"sk-serial\"><div class=\"sk-item\"><div class=\"sk-estimator sk-toggleable\"><input class=\"sk-toggleable__control sk-hidden--visually\" id=\"sk-estimator-id-37\" type=\"checkbox\" ><label for=\"sk-estimator-id-37\" class=\"sk-toggleable__label sk-toggleable__label-arrow\">XGBClassifier</label><div class=\"sk-toggleable__content\"><pre>XGBClassifier(base_score=None, booster=None, callbacks=None,\n",
       "              colsample_bylevel=None, colsample_bynode=None,\n",
       "              colsample_bytree=None, device=None, early_stopping_rounds=None,\n",
       "              enable_categorical=False, eval_metric=None, feature_types=None,\n",
       "              gamma=None, grow_policy=None, importance_type=None,\n",
       "              interaction_constraints=None, learning_rate=None, max_bin=None,\n",
       "              max_cat_threshold=None, max_cat_to_onehot=None,\n",
       "              max_delta_step=None, max_depth=None, max_leaves=None,\n",
       "              min_child_weight=None, missing=nan, monotone_constraints=None,\n",
       "              multi_strategy=None, n_estimators=None, n_jobs=None,\n",
       "              num_parallel_tree=None, random_state=42, ...)</pre></div></div></div></div></div></div></div></div></div></div>"
      ],
      "text/plain": [
       "GridSearchCV(cv=5,\n",
       "             estimator=XGBClassifier(base_score=None, booster=None,\n",
       "                                     callbacks=None, colsample_bylevel=None,\n",
       "                                     colsample_bynode=None,\n",
       "                                     colsample_bytree=None, device=None,\n",
       "                                     early_stopping_rounds=None,\n",
       "                                     enable_categorical=False, eval_metric=None,\n",
       "                                     feature_types=None, gamma=None,\n",
       "                                     grow_policy=None, importance_type=None,\n",
       "                                     interaction_constraints=None,\n",
       "                                     learning_rate=None,...\n",
       "                                     max_leaves=None, min_child_weight=None,\n",
       "                                     missing=nan, monotone_constraints=None,\n",
       "                                     multi_strategy=None, n_estimators=None,\n",
       "                                     n_jobs=None, num_parallel_tree=None,\n",
       "                                     random_state=42, ...),\n",
       "             param_grid={'learning_rate': [0.1, 0.01, 0.2],\n",
       "                         'max_depth': [4, 5, 6, 7, 8, 9, 10, 11, 12],\n",
       "                         'min_child_weight': [1, 2, 3, 4, 5, 6],\n",
       "                         'n_estimators': [300]},\n",
       "             refit='recall', scoring={'recall', 'f1', 'accuracy', 'precision'})"
      ]
     },
     "execution_count": 112,
     "metadata": {},
     "output_type": "execute_result"
    }
   ],
   "source": [
    "xgb_clf.fit(X_train, y_train)"
   ]
  },
  {
   "cell_type": "markdown",
   "metadata": {
    "id": "ruQISDB76805"
   },
   "source": [
    "Get the best score from this model."
   ]
  },
  {
   "cell_type": "code",
   "execution_count": 113,
   "metadata": {
    "id": "UFLTmIDm6805"
   },
   "outputs": [
    {
     "name": "stdout",
     "output_type": "stream",
     "text": [
      "Best Avg. Validation Score:  0.1906\n"
     ]
    }
   ],
   "source": [
    "# Examine best score\n",
    "print(\"Best Avg. Validation Score: \", \"%.4f\" % xgb_clf.best_score_)"
   ]
  },
  {
   "cell_type": "markdown",
   "metadata": {
    "id": "fwmWDuXZ6805"
   },
   "source": [
    "And the best parameters."
   ]
  },
  {
   "cell_type": "code",
   "execution_count": 114,
   "metadata": {
    "id": "cdPUCuND6805"
   },
   "outputs": [
    {
     "data": {
      "text/html": [
       "<style>#sk-container-id-18 {color: black;background-color: white;}#sk-container-id-18 pre{padding: 0;}#sk-container-id-18 div.sk-toggleable {background-color: white;}#sk-container-id-18 label.sk-toggleable__label {cursor: pointer;display: block;width: 100%;margin-bottom: 0;padding: 0.3em;box-sizing: border-box;text-align: center;}#sk-container-id-18 label.sk-toggleable__label-arrow:before {content: \"▸\";float: left;margin-right: 0.25em;color: #696969;}#sk-container-id-18 label.sk-toggleable__label-arrow:hover:before {color: black;}#sk-container-id-18 div.sk-estimator:hover label.sk-toggleable__label-arrow:before {color: black;}#sk-container-id-18 div.sk-toggleable__content {max-height: 0;max-width: 0;overflow: hidden;text-align: left;background-color: #f0f8ff;}#sk-container-id-18 div.sk-toggleable__content pre {margin: 0.2em;color: black;border-radius: 0.25em;background-color: #f0f8ff;}#sk-container-id-18 input.sk-toggleable__control:checked~div.sk-toggleable__content {max-height: 200px;max-width: 100%;overflow: auto;}#sk-container-id-18 input.sk-toggleable__control:checked~label.sk-toggleable__label-arrow:before {content: \"▾\";}#sk-container-id-18 div.sk-estimator input.sk-toggleable__control:checked~label.sk-toggleable__label {background-color: #d4ebff;}#sk-container-id-18 div.sk-label input.sk-toggleable__control:checked~label.sk-toggleable__label {background-color: #d4ebff;}#sk-container-id-18 input.sk-hidden--visually {border: 0;clip: rect(1px 1px 1px 1px);clip: rect(1px, 1px, 1px, 1px);height: 1px;margin: -1px;overflow: hidden;padding: 0;position: absolute;width: 1px;}#sk-container-id-18 div.sk-estimator {font-family: monospace;background-color: #f0f8ff;border: 1px dotted black;border-radius: 0.25em;box-sizing: border-box;margin-bottom: 0.5em;}#sk-container-id-18 div.sk-estimator:hover {background-color: #d4ebff;}#sk-container-id-18 div.sk-parallel-item::after {content: \"\";width: 100%;border-bottom: 1px solid gray;flex-grow: 1;}#sk-container-id-18 div.sk-label:hover label.sk-toggleable__label {background-color: #d4ebff;}#sk-container-id-18 div.sk-serial::before {content: \"\";position: absolute;border-left: 1px solid gray;box-sizing: border-box;top: 0;bottom: 0;left: 50%;z-index: 0;}#sk-container-id-18 div.sk-serial {display: flex;flex-direction: column;align-items: center;background-color: white;padding-right: 0.2em;padding-left: 0.2em;position: relative;}#sk-container-id-18 div.sk-item {position: relative;z-index: 1;}#sk-container-id-18 div.sk-parallel {display: flex;align-items: stretch;justify-content: center;background-color: white;position: relative;}#sk-container-id-18 div.sk-item::before, #sk-container-id-18 div.sk-parallel-item::before {content: \"\";position: absolute;border-left: 1px solid gray;box-sizing: border-box;top: 0;bottom: 0;left: 50%;z-index: -1;}#sk-container-id-18 div.sk-parallel-item {display: flex;flex-direction: column;z-index: 1;position: relative;background-color: white;}#sk-container-id-18 div.sk-parallel-item:first-child::after {align-self: flex-end;width: 50%;}#sk-container-id-18 div.sk-parallel-item:last-child::after {align-self: flex-start;width: 50%;}#sk-container-id-18 div.sk-parallel-item:only-child::after {width: 0;}#sk-container-id-18 div.sk-dashed-wrapped {border: 1px dashed gray;margin: 0 0.4em 0.5em 0.4em;box-sizing: border-box;padding-bottom: 0.4em;background-color: white;}#sk-container-id-18 div.sk-label label {font-family: monospace;font-weight: bold;display: inline-block;line-height: 1.2em;}#sk-container-id-18 div.sk-label-container {text-align: center;}#sk-container-id-18 div.sk-container {/* jupyter's `normalize.less` sets `[hidden] { display: none; }` but bootstrap.min.css set `[hidden] { display: none !important; }` so we also need the `!important` here to be able to override the default hidden behavior on the sphinx rendered scikit-learn.org. See: https://github.com/scikit-learn/scikit-learn/issues/21755 */display: inline-block !important;position: relative;}#sk-container-id-18 div.sk-text-repr-fallback {display: none;}</style><div id=\"sk-container-id-18\" class=\"sk-top-container\"><div class=\"sk-text-repr-fallback\"><pre>XGBClassifier(base_score=None, booster=None, callbacks=None,\n",
       "              colsample_bylevel=None, colsample_bynode=None,\n",
       "              colsample_bytree=None, device=None, early_stopping_rounds=None,\n",
       "              enable_categorical=False, eval_metric=None, feature_types=None,\n",
       "              gamma=None, grow_policy=None, importance_type=None,\n",
       "              interaction_constraints=None, learning_rate=0.2, max_bin=None,\n",
       "              max_cat_threshold=None, max_cat_to_onehot=None,\n",
       "              max_delta_step=None, max_depth=8, max_leaves=None,\n",
       "              min_child_weight=4, missing=nan, monotone_constraints=None,\n",
       "              multi_strategy=None, n_estimators=300, n_jobs=None,\n",
       "              num_parallel_tree=None, random_state=42, ...)</pre><b>In a Jupyter environment, please rerun this cell to show the HTML representation or trust the notebook. <br />On GitHub, the HTML representation is unable to render, please try loading this page with nbviewer.org.</b></div><div class=\"sk-container\" hidden><div class=\"sk-item\"><div class=\"sk-estimator sk-toggleable\"><input class=\"sk-toggleable__control sk-hidden--visually\" id=\"sk-estimator-id-38\" type=\"checkbox\" checked><label for=\"sk-estimator-id-38\" class=\"sk-toggleable__label sk-toggleable__label-arrow\">XGBClassifier</label><div class=\"sk-toggleable__content\"><pre>XGBClassifier(base_score=None, booster=None, callbacks=None,\n",
       "              colsample_bylevel=None, colsample_bynode=None,\n",
       "              colsample_bytree=None, device=None, early_stopping_rounds=None,\n",
       "              enable_categorical=False, eval_metric=None, feature_types=None,\n",
       "              gamma=None, grow_policy=None, importance_type=None,\n",
       "              interaction_constraints=None, learning_rate=0.2, max_bin=None,\n",
       "              max_cat_threshold=None, max_cat_to_onehot=None,\n",
       "              max_delta_step=None, max_depth=8, max_leaves=None,\n",
       "              min_child_weight=4, missing=nan, monotone_constraints=None,\n",
       "              multi_strategy=None, n_estimators=300, n_jobs=None,\n",
       "              num_parallel_tree=None, random_state=42, ...)</pre></div></div></div></div></div>"
      ],
      "text/plain": [
       "XGBClassifier(base_score=None, booster=None, callbacks=None,\n",
       "              colsample_bylevel=None, colsample_bynode=None,\n",
       "              colsample_bytree=None, device=None, early_stopping_rounds=None,\n",
       "              enable_categorical=False, eval_metric=None, feature_types=None,\n",
       "              gamma=None, grow_policy=None, importance_type=None,\n",
       "              interaction_constraints=None, learning_rate=0.2, max_bin=None,\n",
       "              max_cat_threshold=None, max_cat_to_onehot=None,\n",
       "              max_delta_step=None, max_depth=8, max_leaves=None,\n",
       "              min_child_weight=4, missing=nan, monotone_constraints=None,\n",
       "              multi_strategy=None, n_estimators=300, n_jobs=None,\n",
       "              num_parallel_tree=None, random_state=42, ...)"
      ]
     },
     "execution_count": 114,
     "metadata": {},
     "output_type": "execute_result"
    }
   ],
   "source": [
    "# Examine best parameters\n",
    "xgb_clf.best_estimator_"
   ]
  },
  {
   "cell_type": "markdown",
   "metadata": {
    "id": "X8v8HTmQ7KdC"
   },
   "source": [
    "Use the `make_results()` function to output all of the scores of your model. Note that the function accepts three arguments."
   ]
  },
  {
   "cell_type": "code",
   "execution_count": 115,
   "metadata": {
    "id": "QL19dH2h7KdD"
   },
   "outputs": [
    {
     "data": {
      "text/html": [
       "<div>\n",
       "<style scoped>\n",
       "    .dataframe tbody tr th:only-of-type {\n",
       "        vertical-align: middle;\n",
       "    }\n",
       "\n",
       "    .dataframe tbody tr th {\n",
       "        vertical-align: top;\n",
       "    }\n",
       "\n",
       "    .dataframe thead th {\n",
       "        text-align: right;\n",
       "    }\n",
       "</style>\n",
       "<table border=\"1\" class=\"dataframe\">\n",
       "  <thead>\n",
       "    <tr style=\"text-align: right;\">\n",
       "      <th></th>\n",
       "      <th>Model</th>\n",
       "      <th>F1</th>\n",
       "      <th>Recall</th>\n",
       "      <th>Precision</th>\n",
       "      <th>Accuracy</th>\n",
       "    </tr>\n",
       "  </thead>\n",
       "  <tbody>\n",
       "    <tr>\n",
       "      <th>0</th>\n",
       "      <td>Tuned XGB</td>\n",
       "      <td>0.263638</td>\n",
       "      <td>0.190554</td>\n",
       "      <td>0.43046</td>\n",
       "      <td>0.811284</td>\n",
       "    </tr>\n",
       "  </tbody>\n",
       "</table>\n",
       "</div>"
      ],
      "text/plain": [
       "       Model        F1    Recall  Precision  Accuracy\n",
       "0  Tuned XGB  0.263638  0.190554    0.43046  0.811284"
      ]
     },
     "execution_count": 115,
     "metadata": {},
     "output_type": "execute_result"
    }
   ],
   "source": [
    "# Call 'make_results()' on the GridSearch object\n",
    "results_xgb = make_results('Tuned XGB', xgb_clf, 'recall')\n",
    "results_xgb"
   ]
  },
  {
   "cell_type": "markdown",
   "metadata": {
    "id": "c5IRnMO27KdD"
   },
   "source": [
    "This model fit the data even better than the random forest model. The recall score is nearly double the recall score from the logistic regression model from the previous course, and it's almost 50% better than the random forest model's recall score, while maintaining a similar accuracy and precision score."
   ]
  },
  {
   "cell_type": "markdown",
   "metadata": {
    "id": "NfX0SjJffkh1"
   },
   "source": [
    "### **Task 11. Model selection**\n",
    "\n",
    "Now, use the best random forest model and the best XGBoost model to predict on the validation data. Whichever performs better will be selected as the champion model."
   ]
  },
  {
   "cell_type": "markdown",
   "metadata": {
    "id": "chgR3Tx8fn1s"
   },
   "source": [
    "#### **Random forest**"
   ]
  },
  {
   "cell_type": "code",
   "execution_count": 118,
   "metadata": {
    "id": "DUswawM2fyAf",
    "scrolled": true
   },
   "outputs": [],
   "source": [
    "# Use random forest model to predict on validation data\n",
    "rf_preds = rf_clf.best_estimator_.predict(X_val)"
   ]
  },
  {
   "cell_type": "code",
   "execution_count": 119,
   "metadata": {},
   "outputs": [
    {
     "data": {
      "text/plain": [
       "array([0, 1, 0, ..., 0, 0, 0])"
      ]
     },
     "execution_count": 119,
     "metadata": {},
     "output_type": "execute_result"
    }
   ],
   "source": [
    "rf_preds"
   ]
  },
  {
   "cell_type": "markdown",
   "metadata": {
    "id": "uz1eb4rqf11Z"
   },
   "source": [
    "Use the `get_test_scores()` function to generate a table of scores from the predictions on the validation data."
   ]
  },
  {
   "cell_type": "code",
   "execution_count": 127,
   "metadata": {
    "id": "AJ9mCl0Uf4P4"
   },
   "outputs": [],
   "source": [
    "def get_test_scores(model_name:str, preds, y_test_data):\n",
    "    '''\n",
    "    Generate a table of test scores.\n",
    "\n",
    "    In:\n",
    "        model_name (string): Your choice: how the model will be named in the output table\n",
    "        preds: numpy array of test predictions\n",
    "        y_test_data: numpy array of y_test data\n",
    "\n",
    "    Out:\n",
    "        table: a pandas df of precision, recall, f1, and accuracy scores for your model\n",
    "    '''\n",
    "    accuracy = accuracy_score(y_test_data, preds)\n",
    "    precision = precision_score(y_test_data, preds)\n",
    "    recall = recall_score(y_test_data, preds)\n",
    "    f1 = f1_score(y_test_data, preds)\n",
    "\n",
    "    table = pd.DataFrame({'Model': [model_name],\n",
    "                          'Precision': [precision],\n",
    "                          'Recall': [recall],\n",
    "                          'F1': [f1],\n",
    "                          'Accuracy': [accuracy]\n",
    "                          })\n",
    "\n",
    "    return table"
   ]
  },
  {
   "cell_type": "code",
   "execution_count": 131,
   "metadata": {
    "id": "22ANR4ZHf5NK",
    "scrolled": true
   },
   "outputs": [
    {
     "data": {
      "text/html": [
       "<div>\n",
       "<style scoped>\n",
       "    .dataframe tbody tr th:only-of-type {\n",
       "        vertical-align: middle;\n",
       "    }\n",
       "\n",
       "    .dataframe tbody tr th {\n",
       "        vertical-align: top;\n",
       "    }\n",
       "\n",
       "    .dataframe thead th {\n",
       "        text-align: right;\n",
       "    }\n",
       "</style>\n",
       "<table border=\"1\" class=\"dataframe\">\n",
       "  <thead>\n",
       "    <tr style=\"text-align: right;\">\n",
       "      <th></th>\n",
       "      <th>Model</th>\n",
       "      <th>F1</th>\n",
       "      <th>Recall</th>\n",
       "      <th>Precision</th>\n",
       "      <th>Accuracy</th>\n",
       "    </tr>\n",
       "  </thead>\n",
       "  <tbody>\n",
       "    <tr>\n",
       "      <th>0</th>\n",
       "      <td>Tuned Random Forest</td>\n",
       "      <td>0.171811</td>\n",
       "      <td>0.103803</td>\n",
       "      <td>0.509040</td>\n",
       "      <td>0.822823</td>\n",
       "    </tr>\n",
       "    <tr>\n",
       "      <th>0</th>\n",
       "      <td>Random Forest validation</td>\n",
       "      <td>0.183871</td>\n",
       "      <td>0.112426</td>\n",
       "      <td>0.504425</td>\n",
       "      <td>0.823077</td>\n",
       "    </tr>\n",
       "  </tbody>\n",
       "</table>\n",
       "</div>"
      ],
      "text/plain": [
       "                      Model        F1    Recall  Precision  Accuracy\n",
       "0       Tuned Random Forest  0.171811  0.103803   0.509040  0.822823\n",
       "0  Random Forest validation  0.183871  0.112426   0.504425  0.823077"
      ]
     },
     "execution_count": 131,
     "metadata": {},
     "output_type": "execute_result"
    }
   ],
   "source": [
    "# Get validation scores for RF model\n",
    "rf_scores = get_test_scores('Random Forest validation', rf_preds, y_val)\n",
    "\n",
    "# Append to the results table\n",
    "results = results.append(rf_scores)\n",
    "results"
   ]
  },
  {
   "cell_type": "code",
   "execution_count": 132,
   "metadata": {},
   "outputs": [
    {
     "data": {
      "text/html": [
       "<div>\n",
       "<style scoped>\n",
       "    .dataframe tbody tr th:only-of-type {\n",
       "        vertical-align: middle;\n",
       "    }\n",
       "\n",
       "    .dataframe tbody tr th {\n",
       "        vertical-align: top;\n",
       "    }\n",
       "\n",
       "    .dataframe thead th {\n",
       "        text-align: right;\n",
       "    }\n",
       "</style>\n",
       "<table border=\"1\" class=\"dataframe\">\n",
       "  <thead>\n",
       "    <tr style=\"text-align: right;\">\n",
       "      <th></th>\n",
       "      <th>Model</th>\n",
       "      <th>F1</th>\n",
       "      <th>Recall</th>\n",
       "      <th>Precision</th>\n",
       "      <th>Accuracy</th>\n",
       "    </tr>\n",
       "  </thead>\n",
       "  <tbody>\n",
       "    <tr>\n",
       "      <th>0</th>\n",
       "      <td>Tuned Random Forest</td>\n",
       "      <td>0.171811</td>\n",
       "      <td>0.103803</td>\n",
       "      <td>0.509040</td>\n",
       "      <td>0.822823</td>\n",
       "    </tr>\n",
       "    <tr>\n",
       "      <th>0</th>\n",
       "      <td>Random Forest validation</td>\n",
       "      <td>0.183871</td>\n",
       "      <td>0.112426</td>\n",
       "      <td>0.504425</td>\n",
       "      <td>0.823077</td>\n",
       "    </tr>\n",
       "    <tr>\n",
       "      <th>0</th>\n",
       "      <td>Tuned XGB</td>\n",
       "      <td>0.263638</td>\n",
       "      <td>0.190554</td>\n",
       "      <td>0.430460</td>\n",
       "      <td>0.811284</td>\n",
       "    </tr>\n",
       "  </tbody>\n",
       "</table>\n",
       "</div>"
      ],
      "text/plain": [
       "                      Model        F1    Recall  Precision  Accuracy\n",
       "0       Tuned Random Forest  0.171811  0.103803   0.509040  0.822823\n",
       "0  Random Forest validation  0.183871  0.112426   0.504425  0.823077\n",
       "0                 Tuned XGB  0.263638  0.190554   0.430460  0.811284"
      ]
     },
     "execution_count": 132,
     "metadata": {},
     "output_type": "execute_result"
    }
   ],
   "source": [
    "results = results.append(results_xgb)\n",
    "results"
   ]
  },
  {
   "cell_type": "markdown",
   "metadata": {
    "id": "yDeuk16igBD0"
   },
   "source": [
    "Notice that the scores went down from the training scores across all metrics, but only by very little. This means that the model did not overfit the training data."
   ]
  },
  {
   "cell_type": "markdown",
   "metadata": {
    "id": "D8h2s5RpgEER"
   },
   "source": [
    "#### **XGBoost**\n",
    "\n",
    "Now, do the same thing to get the performance scores of the XGBoost model on the validation data."
   ]
  },
  {
   "cell_type": "code",
   "execution_count": 133,
   "metadata": {
    "id": "mQoTuRkngHjp"
   },
   "outputs": [
    {
     "data": {
      "text/html": [
       "<div>\n",
       "<style scoped>\n",
       "    .dataframe tbody tr th:only-of-type {\n",
       "        vertical-align: middle;\n",
       "    }\n",
       "\n",
       "    .dataframe tbody tr th {\n",
       "        vertical-align: top;\n",
       "    }\n",
       "\n",
       "    .dataframe thead th {\n",
       "        text-align: right;\n",
       "    }\n",
       "</style>\n",
       "<table border=\"1\" class=\"dataframe\">\n",
       "  <thead>\n",
       "    <tr style=\"text-align: right;\">\n",
       "      <th></th>\n",
       "      <th>Model</th>\n",
       "      <th>F1</th>\n",
       "      <th>Recall</th>\n",
       "      <th>Precision</th>\n",
       "      <th>Accuracy</th>\n",
       "    </tr>\n",
       "  </thead>\n",
       "  <tbody>\n",
       "    <tr>\n",
       "      <th>0</th>\n",
       "      <td>Tuned Random Forest</td>\n",
       "      <td>0.171811</td>\n",
       "      <td>0.103803</td>\n",
       "      <td>0.509040</td>\n",
       "      <td>0.822823</td>\n",
       "    </tr>\n",
       "    <tr>\n",
       "      <th>0</th>\n",
       "      <td>Random Forest validation</td>\n",
       "      <td>0.183871</td>\n",
       "      <td>0.112426</td>\n",
       "      <td>0.504425</td>\n",
       "      <td>0.823077</td>\n",
       "    </tr>\n",
       "    <tr>\n",
       "      <th>0</th>\n",
       "      <td>Tuned XGB</td>\n",
       "      <td>0.263638</td>\n",
       "      <td>0.190554</td>\n",
       "      <td>0.430460</td>\n",
       "      <td>0.811284</td>\n",
       "    </tr>\n",
       "    <tr>\n",
       "      <th>0</th>\n",
       "      <td>XGB validation</td>\n",
       "      <td>0.266843</td>\n",
       "      <td>0.199211</td>\n",
       "      <td>0.404000</td>\n",
       "      <td>0.805944</td>\n",
       "    </tr>\n",
       "  </tbody>\n",
       "</table>\n",
       "</div>"
      ],
      "text/plain": [
       "                      Model        F1    Recall  Precision  Accuracy\n",
       "0       Tuned Random Forest  0.171811  0.103803   0.509040  0.822823\n",
       "0  Random Forest validation  0.183871  0.112426   0.504425  0.823077\n",
       "0                 Tuned XGB  0.263638  0.190554   0.430460  0.811284\n",
       "0            XGB validation  0.266843  0.199211   0.404000  0.805944"
      ]
     },
     "execution_count": 133,
     "metadata": {},
     "output_type": "execute_result"
    }
   ],
   "source": [
    "# Use XGBoost model to predict on validation data\n",
    "xgb_preds = xgb_clf.best_estimator_.predict(X_val)\n",
    "xgb_scores = get_test_scores('XGB validation', xgb_preds, y_val)\n",
    "\n",
    "# Get validation scores for XGBoost model\n",
    "xgb_scores = get_test_scores('XGB validation', xgb_preds, y_val)\n",
    "\n",
    "# Append to the results table\n",
    "results = results.append(xgb_scores)\n",
    "results"
   ]
  },
  {
   "cell_type": "markdown",
   "metadata": {
    "id": "GspkQqUNgIm3"
   },
   "source": [
    "Just like with the random forest model, the XGBoost model's validation scores were lower, but only very slightly. It is still the clear champion."
   ]
  },
  {
   "cell_type": "markdown",
   "metadata": {
    "id": "_HGsWfEOeWPm"
   },
   "source": [
    "<img src=\"images/Execute.png\" width=\"100\" height=\"100\" align=left>\n",
    "\n",
    "## **PACE: Execute**\n",
    "Consider the questions in your PACE Strategy Document to reflect on the Execute stage."
   ]
  },
  {
   "cell_type": "markdown",
   "metadata": {
    "id": "iOm4n_1OgUND"
   },
   "source": [
    "### **Task 12. Use champion model to predict on test data**\n",
    "\n",
    "Now, use the champion model to predict on the test dataset. This is to give a final indication of how you should expect the model to perform on new future data, should you decide to use the model."
   ]
  },
  {
   "cell_type": "code",
   "execution_count": 134,
   "metadata": {
    "id": "7BkheTIsgU2b"
   },
   "outputs": [
    {
     "data": {
      "text/html": [
       "<div>\n",
       "<style scoped>\n",
       "    .dataframe tbody tr th:only-of-type {\n",
       "        vertical-align: middle;\n",
       "    }\n",
       "\n",
       "    .dataframe tbody tr th {\n",
       "        vertical-align: top;\n",
       "    }\n",
       "\n",
       "    .dataframe thead th {\n",
       "        text-align: right;\n",
       "    }\n",
       "</style>\n",
       "<table border=\"1\" class=\"dataframe\">\n",
       "  <thead>\n",
       "    <tr style=\"text-align: right;\">\n",
       "      <th></th>\n",
       "      <th>Model</th>\n",
       "      <th>F1</th>\n",
       "      <th>Recall</th>\n",
       "      <th>Precision</th>\n",
       "      <th>Accuracy</th>\n",
       "    </tr>\n",
       "  </thead>\n",
       "  <tbody>\n",
       "    <tr>\n",
       "      <th>0</th>\n",
       "      <td>Tuned Random Forest</td>\n",
       "      <td>0.171811</td>\n",
       "      <td>0.103803</td>\n",
       "      <td>0.509040</td>\n",
       "      <td>0.822823</td>\n",
       "    </tr>\n",
       "    <tr>\n",
       "      <th>0</th>\n",
       "      <td>Random Forest validation</td>\n",
       "      <td>0.183871</td>\n",
       "      <td>0.112426</td>\n",
       "      <td>0.504425</td>\n",
       "      <td>0.823077</td>\n",
       "    </tr>\n",
       "    <tr>\n",
       "      <th>0</th>\n",
       "      <td>Tuned XGB</td>\n",
       "      <td>0.263638</td>\n",
       "      <td>0.190554</td>\n",
       "      <td>0.430460</td>\n",
       "      <td>0.811284</td>\n",
       "    </tr>\n",
       "    <tr>\n",
       "      <th>0</th>\n",
       "      <td>XGB validation</td>\n",
       "      <td>0.266843</td>\n",
       "      <td>0.199211</td>\n",
       "      <td>0.404000</td>\n",
       "      <td>0.805944</td>\n",
       "    </tr>\n",
       "    <tr>\n",
       "      <th>0</th>\n",
       "      <td>XGB test</td>\n",
       "      <td>0.252604</td>\n",
       "      <td>0.191321</td>\n",
       "      <td>0.371648</td>\n",
       "      <td>0.799301</td>\n",
       "    </tr>\n",
       "  </tbody>\n",
       "</table>\n",
       "</div>"
      ],
      "text/plain": [
       "                      Model        F1    Recall  Precision  Accuracy\n",
       "0       Tuned Random Forest  0.171811  0.103803   0.509040  0.822823\n",
       "0  Random Forest validation  0.183871  0.112426   0.504425  0.823077\n",
       "0                 Tuned XGB  0.263638  0.190554   0.430460  0.811284\n",
       "0            XGB validation  0.266843  0.199211   0.404000  0.805944\n",
       "0                  XGB test  0.252604  0.191321   0.371648  0.799301"
      ]
     },
     "execution_count": 134,
     "metadata": {},
     "output_type": "execute_result"
    }
   ],
   "source": [
    "# Use XGBoost model to predict on test data\n",
    "xgb_preds_test = xgb_clf.best_estimator_.predict(X_test)\n",
    "\n",
    "# Get test scores for XGBoost model\n",
    "xgb_scores_test = get_test_scores('XGB test', xgb_preds_test, y_test)\n",
    "\n",
    "# Append to the results table\n",
    "results = results.append(xgb_scores_test)\n",
    "results"
   ]
  },
  {
   "cell_type": "markdown",
   "metadata": {
    "id": "F8L_LyIbgV1I"
   },
   "source": [
    "The recall was exactly the same as it was on the validation data, but the precision declined notably, which caused all of the other scores to drop slightly. Nonetheless, this is stil within the acceptable range for performance discrepancy between validation and test scores."
   ]
  },
  {
   "cell_type": "markdown",
   "metadata": {
    "id": "S5GNoz_QgWug"
   },
   "source": [
    "### **Task 13. Confusion matrix**\n",
    "\n",
    "Plot a confusion matrix of the champion model's predictions on the test data."
   ]
  },
  {
   "cell_type": "code",
   "execution_count": 136,
   "metadata": {},
   "outputs": [],
   "source": [
    "import sklearn.metrics as metrics"
   ]
  },
  {
   "cell_type": "code",
   "execution_count": 137,
   "metadata": {
    "id": "WF3KErX8gXPc"
   },
   "outputs": [
    {
     "data": {
      "text/plain": [
       "<sklearn.metrics._plot.confusion_matrix.ConfusionMatrixDisplay at 0x7f81e01806d0>"
      ]
     },
     "execution_count": 137,
     "metadata": {},
     "output_type": "execute_result"
    },
    {
     "data": {
      "image/png": "[encoded data removed]",
      "text/plain": [
       "<Figure size 432x288 with 2 Axes>"
      ]
     },
     "metadata": {
      "needs_background": "light"
     },
     "output_type": "display_data"
    }
   ],
   "source": [
    "# Generate array of values for confusion matrix\n",
    "cm = confusion_matrix(y_test, xgb_preds_test, labels=xgb_clf.classes_)\n",
    "\n",
    "# Plot confusion matrix\n",
    "disp = metrics.ConfusionMatrixDisplay(confusion_matrix = cm,display_labels = clf.classes_)\n",
    "disp.plot()"
   ]
  },
  {
   "cell_type": "markdown",
   "metadata": {
    "id": "6xL4OujkgYC3"
   },
   "source": [
    "The model predicted three times as many false negatives than it did false positives, and it correctly identified only 16.6% of the users who actually churned."
   ]
  },
  {
   "cell_type": "markdown",
   "metadata": {
    "id": "P33INGPmgY1o"
   },
   "source": [
    "### **Task 14. Feature importance**\n",
    "\n",
    "Use the `plot_importance` function to inspect the most important features of your final model."
   ]
  },
  {
   "cell_type": "code",
   "execution_count": 138,
   "metadata": {
    "id": "N4fc2i8XgZoE"
   },
   "outputs": [
    {
     "data": {
      "image/png": "[encoded data removed]",
      "text/plain": [
       "<Figure size 432x288 with 1 Axes>"
      ]
     },
     "metadata": {
      "needs_background": "light"
     },
     "output_type": "display_data"
    }
   ],
   "source": [
    "plot_importance(xgb_clf.best_estimator_);"
   ]
  },
  {
   "cell_type": "markdown",
   "metadata": {
    "id": "EU3GIZNrga5z"
   },
   "source": [
    "The XGBoost model made more use of many of the features than did the logistic regression model from the previous course, which weighted a single feature (`activity_days`) very heavily in its final prediction.\n",
    "\n",
    "If anything, this underscores the importance of feature engineering. Notice that engineered features accounted for six of the top 10 features (and three of the top five). Feature engineering is often one of the best and easiest ways to boost model performance.\n",
    "\n",
    "Also, note that the important features in one model might not be the same as the important features in another model. That's why you shouldn't discount features as unimportant without thoroughly examining them and understanding their relationship with the dependent variable, if possible. These discrepancies between features selected by models are typically caused by complex feature interactions.\n",
    "\n",
    "Remember, sometimes your data simply will not be predictive of your chosen target. This is common. Machine learning is a powerful tool, but it is not magic. If your data does not contain predictive signal, even the most complex algorithm will not be able to deliver consistent and accurate predictions. Do not be afraid to draw this conclusion.\n",
    "\n",
    "Even if you cannot use the model to make strong predictions, was the work done in vain? What insights can you report back to stakeholders?"
   ]
  },
  {
   "cell_type": "markdown",
   "metadata": {
    "id": "ill21hQ4ej9-"
   },
   "source": [
    "### **Task 15. Conclusion**\n",
    "\n",
    "Now that you've built and tested your machine learning models, the next step is to share your findings with the Waze leadership team. Consider the following questions as you prepare to write your executive summary. Think about key points you may want to share with the team, and what information is most relevant to the user churn project.\n",
    "\n",
    "**Questions:**\n",
    "\n",
    "1. Would you recommend using this model for churn prediction? Why or why not?\n",
    "\n",
    "2. What tradeoff was made by splitting the data into training, validation, and test sets as opposed to just training and test sets?\n",
    "\n",
    "3. What is the benefit of using a logistic regression model over an ensemble of tree-based models (like random forest or XGBoost) for classification tasks?\n",
    "\n",
    "4. What is the benefit of using an ensemble of tree-based models like random forest or XGBoost over a logistic regression model for classification tasks?\n",
    "\n",
    "5. What could you do to improve this model?\n",
    "\n",
    "6. What additional features would you like to have to help improve the model?"
   ]
  },
  {
   "cell_type": "markdown",
   "metadata": {
    "id": "_NrXTUydBady"
   },
   "source": [
    "==> ENTER YOUR RESPONSES TO QUESTIONS 1-6 HERE"
   ]
  },
  {
   "cell_type": "markdown",
   "metadata": {
    "id": "LUvjKSSJVDMH"
   },
   "source": [
    "It worked! Hopefully now you understand that changing the decision threshold is another tool that can help you achieve useful results from your model."
   ]
  },
  {
   "cell_type": "markdown",
   "metadata": {},
   "source": [
    "**Congratulations!** You've completed this lab. However, you may not notice a green check mark next to this item on Coursera's platform. Please continue your progress regardless of the check mark. Just click on the \"save\" icon at the top of this notebook to ensure your work has been logged."
   ]
  }
 ],
 "metadata": {
  "colab": {
   "provenance": [
    {
     "file_id": "1DHsmIEwaXUmfVT4tFzyOwyyfXAX0v6IF",
     "timestamp": 1675262571681
    },
    {
     "file_id": "1oNheYh5WbljxkvoK_BMkQTey2DWnFXMs",
     "timestamp": 1674856595373
    }
   ]
  },
  "kernelspec": {
   "display_name": "Python 3 (ipykernel)",
   "language": "python",
   "name": "python3"
  },
  "language_info": {
   "codemirror_mode": {
    "name": "ipython",
    "version": 3
   },
   "file_extension": ".py",
   "mimetype": "text/x-python",
   "name": "python",
   "nbconvert_exporter": "python",
   "pygments_lexer": "ipython3",
   "version": "3.9.7"
  }
 },
 "nbformat": 4,
 "nbformat_minor": 1
}
